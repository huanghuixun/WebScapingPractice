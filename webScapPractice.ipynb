{
 "cells": [
  {
   "cell_type": "code",
   "execution_count": null,
   "id": "d89ff292",
   "metadata": {},
   "outputs": [],
   "source": [
    "%%shell\n",
    "# Ubuntu no longer distributes chromium-browser outside of snap\n",
    "#\n",
    "# Proposed solution: https://askubuntu.com/questions/1204571/how-to-install-chromium-without-snap\n",
    "\n",
    "# Add debian buster\n",
    "cat > /etc/apt/sources.list.d/debian.list <<'EOF'\n",
    "deb [arch=amd64 signed-by=/usr/share/keyrings/debian-buster.gpg] http://deb.debian.org/debian buster main\n",
    "deb [arch=amd64 signed-by=/usr/share/keyrings/debian-buster-updates.gpg] http://deb.debian.org/debian buster-updates main\n",
    "deb [arch=amd64 signed-by=/usr/share/keyrings/debian-security-buster.gpg] http://deb.debian.org/debian-security buster/updates main\n",
    "EOF\n",
    "\n",
    "# Add keys\n",
    "apt-key adv --keyserver keyserver.ubuntu.com --recv-keys DCC9EFBF77E11517\n",
    "apt-key adv --keyserver keyserver.ubuntu.com --recv-keys 648ACFD622F3D138\n",
    "apt-key adv --keyserver keyserver.ubuntu.com --recv-keys 112695A0E562B32A\n",
    "\n",
    "apt-key export 77E11517 | gpg --dearmour -o /usr/share/keyrings/debian-buster.gpg\n",
    "apt-key export 22F3D138 | gpg --dearmour -o /usr/share/keyrings/debian-buster-updates.gpg\n",
    "apt-key export E562B32A | gpg --dearmour -o /usr/share/keyrings/debian-security-buster.gpg\n",
    "\n",
    "# Prefer debian repo for chromium* packages only\n",
    "# Note the double-blank lines between entries\n",
    "cat > /etc/apt/preferences.d/chromium.pref << 'EOF'\n",
    "Package: *\n",
    "Pin: release a=eoan\n",
    "Pin-Priority: 500\n",
    "\n",
    "\n",
    "Package: *\n",
    "Pin: origin \"deb.debian.org\"\n",
    "Pin-Priority: 300\n",
    "\n",
    "\n",
    "Package: chromium*\n",
    "Pin: origin \"deb.debian.org\"\n",
    "Pin-Priority: 700\n",
    "EOF\n",
    "\n",
    "# Install chromium and chromium-driver\n",
    "apt-get update\n",
    "apt-get install chromium chromium-driver"
   ]
  },
  {
   "cell_type": "code",
   "execution_count": null,
   "id": "5eff8c7e",
   "metadata": {},
   "outputs": [],
   "source": [
    "!apt-get update\n",
    "!apt install chromium-chromedriver\n",
    "!cp /usr/lib/chromium-browser/chromedriver /usr/bin"
   ]
  },
  {
   "cell_type": "code",
   "execution_count": null,
   "id": "e3350f11",
   "metadata": {},
   "outputs": [],
   "source": [
    "# 安裝 selenium 假如沒有的話\n",
    "!pip install selenium\n",
    "\n",
    "!pip install pandas\n",
    "\n",
    "!pip install beautifulsoup4"
   ]
  },
  {
   "cell_type": "code",
   "execution_count": null,
   "id": "d405e931",
   "metadata": {},
   "outputs": [],
   "source": [
    "pip install --upgrade pip"
   ]
  },
  {
   "cell_type": "code",
   "execution_count": 1,
   "id": "ec6dffcb",
   "metadata": {
    "executionInfo": {
     "elapsed": 2,
     "status": "ok",
     "timestamp": 1688612251581,
     "user": {
      "displayName": "comet Huang",
      "userId": "13197006647563465080"
     },
     "user_tz": -480
    },
    "id": "ec6dffcb"
   },
   "outputs": [],
   "source": [
    "import requests\n",
    "import warnings #用於取消音軟體版本而出現的警告\n",
    "warnings.filterwarnings('ignore')\n",
    "\n",
    "import time\n",
    "from bs4 import BeautifulSoup\n",
    "from selenium import webdriver\n",
    "from selenium.webdriver.chrome.service import Service"
   ]
  },
  {
   "cell_type": "code",
   "execution_count": 2,
   "id": "5f0a6673",
   "metadata": {
    "colab": {
     "base_uri": "https://localhost:8080/"
    },
    "executionInfo": {
     "elapsed": 17511,
     "status": "ok",
     "timestamp": 1688612273770,
     "user": {
      "displayName": "comet Huang",
      "userId": "13197006647563465080"
     },
     "user_tz": -480
    },
    "id": "5f0a6673",
    "outputId": "ef563c76-3096-4d74-bc5b-0f5fe8ac4998"
   },
   "outputs": [
    {
     "name": "stdout",
     "output_type": "stream",
     "text": [
      "輸入FB個人帳號 ： 0000001@gmail.com\n",
      "請輸FB入密碼 ： 0000000\n"
     ]
    }
   ],
   "source": [
    "import getpass\n",
    "\n",
    "username = input('輸入FB個人帳號 ： ...')\n",
    "\n",
    "password = getpass.getpass('請輸FB入密碼 ： ')"
   ]
  },
  {
   "cell_type": "code",
   "execution_count": 5,
   "id": "6ff598f1",
   "metadata": {
    "executionInfo": {
     "elapsed": 321,
     "status": "ok",
     "timestamp": 1688612516462,
     "user": {
      "displayName": "comet Huang",
      "userId": "13197006647563465080"
     },
     "user_tz": -480
    },
    "id": "6ff598f1"
   },
   "outputs": [],
   "source": [
    "# chrome_options.add_argument() 添加參數\n",
    "options = webdriver.ChromeOptions()\n",
    "\n",
    "# options.add_argument(\"--disable-infobars\") 此方法已失效，要改用下列做法\n",
    "options.add_experimental_option(\"excludeSwitches\", ['enable-automation']);\n",
    "\n",
    "# 視窗最大化\n",
    "options.add_argument(\"--start-maximized\")\n",
    "\n",
    "#規避bug，文檔提到\n",
    "options.add_argument('--disable-gpu') \n",
    "\n",
    "prefs = {\n",
    "    # 禁用瀏覽器彈窗\n",
    "    \"profile.default_content_setting_values\":{\n",
    "    \"notifications\" : 2  },\n",
    "    # 禁用彈出儲存密碼視窗\n",
    "    \"profile.password_manager_enabled\": False, \"credentials_enable_service\": False\n",
    "}\n",
    "options.add_experimental_option('prefs',prefs)\n",
    "\n",
    "# options.add_argument()"
   ]
  },
  {
   "cell_type": "code",
   "execution_count": 6,
   "id": "1add3c01",
   "metadata": {
    "colab": {
     "base_uri": "https://localhost:8080/",
     "height": 384
    },
    "executionInfo": {
     "elapsed": 753,
     "status": "error",
     "timestamp": 1688613835965,
     "user": {
      "displayName": "comet Huang",
      "userId": "13197006647563465080"
     },
     "user_tz": -480
    },
    "id": "1add3c01",
    "outputId": "eaa0678a-97fb-4602-9ade-90078fb892a0"
   },
   "outputs": [],
   "source": [
    "driver = webdriver.Chrome( options = options)\n",
    "driver.get(\"https://www.facebook.com/\")\n",
    "\n",
    "driver.find_element(\"id\",\"email\").send_keys(username)\n",
    "driver.find_element(\"id\",\"pass\").send_keys(password)\n",
    "driver.find_element(\"name\",\"login\").submit()\n",
    "\n",
    "\n",
    "#driver.find_element_by_id(\"pass\").send_keys(password)\n",
    "#driver.find_element_by_name(\"login\").submit()\n",
    "\n",
    "login_to_pause = 3\n",
    "driver.implicitly_wait(login_to_pause)"
   ]
  },
  {
   "cell_type": "code",
   "execution_count": 7,
   "id": "b0b5886d",
   "metadata": {
    "id": "b0b5886d"
   },
   "outputs": [],
   "source": [
    "fb_dest = \"https://www.facebook.com/MilitarySpokesman\"\n",
    "\n",
    "driver.get(fb_dest)    # 填入所欲爬取的 fb 網址\n",
    "\n",
    "driver.implicitly_wait(login_to_pause)"
   ]
  },
  {
   "cell_type": "code",
   "execution_count": 8,
   "id": "e3bf3d1a",
   "metadata": {},
   "outputs": [],
   "source": [
    "from selenium.webdriver.common.keys import Keys\n",
    "from selenium.webdriver.common.action_chains import ActionChains\n",
    "import pandas as pd"
   ]
  },
  {
   "cell_type": "code",
   "execution_count": 11,
   "id": "d4f9402b",
   "metadata": {
    "id": "d4f9402b",
    "outputId": "03396cff-257a-4812-e4dd-47354db92f9b"
   },
   "outputs": [
    {
     "name": "stdout",
     "output_type": "stream",
     "text": [
      "\n",
      "總共有 4 個發文分享！\n",
      "\n"
     ]
    },
    {
     "data": {
      "text/html": [
       "<style type=\"text/css\">\n",
       "#T_94b9f th {\n",
       "  text-align: center;\n",
       "}\n",
       "#T_94b9f_row0_col0, #T_94b9f_row1_col0, #T_94b9f_row2_col0, #T_94b9f_row3_col0 {\n",
       "  text-align: left;\n",
       "  font-weight: bold;\n",
       "  color: blue;\n",
       "}\n",
       "</style>\n",
       "<table id=\"T_94b9f\">\n",
       "  <thead>\n",
       "    <tr>\n",
       "      <th class=\"blank level0\" >&nbsp;</th>\n",
       "      <th id=\"T_94b9f_level0_col0\" class=\"col_heading level0 col0\" >發文主題</th>\n",
       "    </tr>\n",
       "  </thead>\n",
       "  <tbody>\n",
       "    <tr>\n",
       "      <th id=\"T_94b9f_level0_row0\" class=\"row_heading level0 row0\" >1</th>\n",
       "      <td id=\"T_94b9f_row0_col0\" class=\"data row0 col0\" >中華民國26年7月7日，盧溝橋事變爆發，這個具有歷史意義的日子，昭示了唯有全國軍民團結一心、同心抗敵，方能抵禦侵略、捍衛國家。</td>\n",
       "    </tr>\n",
       "    <tr>\n",
       "      <th id=\"T_94b9f_level0_row1\" class=\"row_heading level0 row1\" >2</th>\n",
       "      <td id=\"T_94b9f_row1_col0\" class=\"data row1 col0\" >#飛彈射擊 #操演群像這群人的身影堆疊成幾個字「我們同心，勢必成功」</td>\n",
       "    </tr>\n",
       "    <tr>\n",
       "      <th id=\"T_94b9f_level0_row2\" class=\"row_heading level0 row2\" >3</th>\n",
       "      <td id=\"T_94b9f_row2_col0\" class=\"data row2 col0\" >他們即將和頸線最美的黑天鵝相遇，也將沐沐於最奪目的燦爛豔陽，還有比永遠再多一分鐘的，收操的路。</td>\n",
       "    </tr>\n",
       "    <tr>\n",
       "      <th id=\"T_94b9f_level0_row3\" class=\"row_heading level0 row3\" >4</th>\n",
       "      <td id=\"T_94b9f_row3_col0\" class=\"data row3 col0\" >天馬｜神弓｜雷霆｜神鷹 是國軍年度 #飛彈射擊操演，這兩天屏東熱力四射，氣溫高丶士氣更高！</td>\n",
       "    </tr>\n",
       "  </tbody>\n",
       "</table>\n"
      ],
      "text/plain": [
       "<pandas.io.formats.style.Styler at 0x126ca773430>"
      ]
     },
     "execution_count": 11,
     "metadata": {},
     "output_type": "execute_result"
    }
   ],
   "source": [
    "max_scroll_pages = 5    # 欲爬取的頁面數目，此頁面數字可以調整。\n",
    "\n",
    "sec_to_pause = 1    # 暫停駐留在一個頁面的時間，以秒為單位。\n",
    "\n",
    "for repeated_action in range(1, max_scroll_pages + 1):\n",
    "\n",
    "    soup = BeautifulSoup(driver.page_source, 'lxml')    # 使用 BeautifulSoup() 來解析取回頁面，解釋模式選擇使用 'lxml' 模式。\n",
    "\n",
    "    all_titles = soup.find_all('div', {'class':'xdj266r x11i5rnm xat24cr x1mh8g0r x1vvkbs x126k92a'})   # 抓取所有粉絲頁面公告的訊息。\n",
    "\n",
    "    time.sleep(sec_to_pause)   # 每滾動一次暫停在該頁面數秒鐘，此時間可以調整。\n",
    "\n",
    "    # Similar to pressing the PgDn button on the keyboard, it can be replaced with Keys.DOWN (down arrow, but this pull-down progress is slow)\n",
    "    ActionChains(driver).send_keys(Keys.PAGE_DOWN).perform()\n",
    "\n",
    "    # Scroll down 500 pixels, the mouse position also changes\n",
    "    #driver.execute_script(\"window.scrollBy(0, 500)\", \"\")\n",
    "\n",
    "\n",
    "print(\"\\n總共有\", len(all_titles), \"個發文分享！\\n\")\n",
    "\n",
    "#print(all_titles, '\\n')\n",
    "\n",
    "df = pd.DataFrame(columns = ['發文主題'])\n",
    "\n",
    "lst = []\n",
    "for article in all_titles:\n",
    "    lst.append(article.getText())\n",
    "    #df = df.append({'發文主題': article.getText()}, ignore_index = True)\n",
    "\n",
    "#df_extended = pd.DataFrame(lst, columns=['發文主題'])\n",
    "df = pd.DataFrame(lst, columns=['發文主題'])\n",
    "# or columns=df.columns if identical columns\n",
    "\n",
    "# concatenate to original\n",
    "#df = pd.concat([df, df_extended])\n",
    "\n",
    "df.index += 1\n",
    "\n",
    "df\n",
    "\n",
    "df.style\\\n",
    "    .set_table_styles([ dict(selector = 'th', props = [('text-align', 'center')])])\\\n",
    "    .set_properties(**{'text-align': 'left', 'font-weight': 'bold'}, color = \"blue\")"
   ]
  },
  {
   "cell_type": "code",
   "execution_count": 43,
   "id": "ed10fd3f",
   "metadata": {
    "id": "ed10fd3f"
   },
   "outputs": [],
   "source": [
    "driver.close()"
   ]
  },
  {
   "cell_type": "markdown",
   "id": "bac51def",
   "metadata": {},
   "source": [
    "## 社團抓取?"
   ]
  },
  {
   "cell_type": "code",
   "execution_count": 9,
   "id": "64143874",
   "metadata": {
    "id": "64143874"
   },
   "outputs": [],
   "source": [
    "driver.get(\"https://www.facebook.com/groups/182779590286685\")\n",
    "\n",
    "driver.implicitly_wait(login_to_pause)"
   ]
  },
  {
   "cell_type": "code",
   "execution_count": 11,
   "id": "02e3d6a1",
   "metadata": {},
   "outputs": [
    {
     "name": "stdout",
     "output_type": "stream",
     "text": [
      "\n",
      "總共有 13 個發文分享！\n",
      "\n"
     ]
    },
    {
     "data": {
      "text/html": [
       "<style type=\"text/css\">\n",
       "#T_bc023 th {\n",
       "  text-align: center;\n",
       "}\n",
       "#T_bc023_row0_col0, #T_bc023_row1_col0, #T_bc023_row2_col0, #T_bc023_row3_col0, #T_bc023_row4_col0, #T_bc023_row5_col0, #T_bc023_row6_col0, #T_bc023_row7_col0, #T_bc023_row8_col0, #T_bc023_row9_col0, #T_bc023_row10_col0, #T_bc023_row11_col0, #T_bc023_row12_col0 {\n",
       "  text-align: left;\n",
       "  font-weight: bold;\n",
       "  color: blue;\n",
       "}\n",
       "</style>\n",
       "<table id=\"T_bc023\">\n",
       "  <thead>\n",
       "    <tr>\n",
       "      <th class=\"blank level0\" >&nbsp;</th>\n",
       "      <th id=\"T_bc023_level0_col0\" class=\"col_heading level0 col0\" >發文主題</th>\n",
       "    </tr>\n",
       "  </thead>\n",
       "  <tbody>\n",
       "    <tr>\n",
       "      <th id=\"T_bc023_level0_row0\" class=\"row_heading level0 row0\" >1</th>\n",
       "      <td id=\"T_bc023_row0_col0\" class=\"data row0 col0\" >#精選フブキ黑上フブキはこの世で1番かわいい白上フブキはこの世で1番かわいい固定半夜發 日更 婆圖庫</td>\n",
       "    </tr>\n",
       "    <tr>\n",
       "      <th id=\"T_bc023_level0_row1\" class=\"row_heading level0 row1\" >2</th>\n",
       "      <td id=\"T_bc023_row1_col0\" class=\"data row1 col0\" >夏天穿泳裝很正常不用遮得對吧</td>\n",
       "    </tr>\n",
       "    <tr>\n",
       "      <th id=\"T_bc023_level0_row2\" class=\"row_heading level0 row2\" >3</th>\n",
       "      <td id=\"T_bc023_row2_col0\" class=\"data row2 col0\" >꒰・◡・๑꒱ ꒰・◡・๑꒱♬konkonbeats♬フブキ【G F O A T】フブキ1000万回愛してる----------我是刪除線----------</td>\n",
       "    </tr>\n",
       "    <tr>\n",
       "      <th id=\"T_bc023_level0_row3\" class=\"row_heading level0 row3\" >4</th>\n",
       "      <td id=\"T_bc023_row3_col0\" class=\"data row3 col0\" >1.https://twitter.com/....../1677559040933761025/photo/1</td>\n",
       "    </tr>\n",
       "    <tr>\n",
       "      <th id=\"T_bc023_level0_row4\" class=\"row_heading level0 row4\" >5</th>\n",
       "      <td id=\"T_bc023_row4_col0\" class=\"data row4 col0\" >2.https://twitter.com/....../1677588332845334529/photo/1</td>\n",
       "    </tr>\n",
       "    <tr>\n",
       "      <th id=\"T_bc023_level0_row5\" class=\"row_heading level0 row5\" >6</th>\n",
       "      <td id=\"T_bc023_row5_col0\" class=\"data row5 col0\" >#精選フブキ黑上フブキはこの世で1番かわいい白上フブキはこの世で1番かわいい固定半夜發 日更 婆圖庫</td>\n",
       "    </tr>\n",
       "    <tr>\n",
       "      <th id=\"T_bc023_level0_row6\" class=\"row_heading level0 row6\" >7</th>\n",
       "      <td id=\"T_bc023_row6_col0\" class=\"data row6 col0\" >以下開放幻想時間X</td>\n",
       "    </tr>\n",
       "    <tr>\n",
       "      <th id=\"T_bc023_level0_row7\" class=\"row_heading level0 row7\" >8</th>\n",
       "      <td id=\"T_bc023_row7_col0\" class=\"data row7 col0\" >꒰・◡・๑꒱ ꒰・◡・๑꒱♬konkonbeats♬フブキ【G F O A T】フブキ1000万回愛してる----------我是刪除線----------</td>\n",
       "    </tr>\n",
       "    <tr>\n",
       "      <th id=\"T_bc023_level0_row8\" class=\"row_heading level0 row8\" >9</th>\n",
       "      <td id=\"T_bc023_row8_col0\" class=\"data row8 col0\" >1.https://twitter.com/....../1677243653524426752/photo/1</td>\n",
       "    </tr>\n",
       "    <tr>\n",
       "      <th id=\"T_bc023_level0_row9\" class=\"row_heading level0 row9\" >10</th>\n",
       "      <td id=\"T_bc023_row9_col0\" class=\"data row9 col0\" >2.https://twitter.com/....../1677230803322040320/photo/1</td>\n",
       "    </tr>\n",
       "    <tr>\n",
       "      <th id=\"T_bc023_level0_row10\" class=\"row_heading level0 row10\" >11</th>\n",
       "      <td id=\"T_bc023_row10_col0\" class=\"data row10 col0\" >FBK!</td>\n",
       "    </tr>\n",
       "    <tr>\n",
       "      <th id=\"T_bc023_level0_row11\" class=\"row_heading level0 row11\" >12</th>\n",
       "      <td id=\"T_bc023_row11_col0\" class=\"data row11 col0\" >只有成員可以查看社團成員名單和他們發佈的貼文。</td>\n",
       "    </tr>\n",
       "    <tr>\n",
       "      <th id=\"T_bc023_level0_row12\" class=\"row_heading level0 row12\" >13</th>\n",
       "      <td id=\"T_bc023_row12_col0\" class=\"data row12 col0\" >所有人都能找到這個社團。</td>\n",
       "    </tr>\n",
       "  </tbody>\n",
       "</table>\n"
      ],
      "text/plain": [
       "<pandas.io.formats.style.Styler at 0x1a2636e10f0>"
      ]
     },
     "execution_count": 11,
     "metadata": {},
     "output_type": "execute_result"
    }
   ],
   "source": [
    "max_scroll_pages = 3    # 欲爬取的頁面數目，此頁面數字可以調整。\n",
    "\n",
    "sec_to_pause = 1    # 暫停駐留在一個頁面的時間，以秒為單位。\n",
    "\n",
    "for repeated_action in range(1, max_scroll_pages + 1):\n",
    "\n",
    "    soup = BeautifulSoup(driver.page_source, 'lxml')    # 使用 BeautifulSoup() 來解析取回頁面，解釋模式選擇使用 'lxml' 模式。\n",
    "    \n",
    "    # 抓取所有粉絲頁面公告的訊息。\n",
    "    all_titles = soup.find_all('span', {'class':'xdj266r x11i5rnm xat24cr x1mh8g0r x1vvkbs x126k92a'})\n",
    "    all_titles = soup.find_all('span', {'class':'x193iq5w xeuugli x13faqbe x1vvkbs x1xmvt09 x6prxxf xvq8zen xo1l8bm xzsf02u'})\n",
    "    \n",
    "    time.sleep(sec_to_pause)   # 每滾動一次暫停在該頁面數秒鐘，此時間可以調整。\n",
    "\n",
    "    # Similar to pressing the PgDn button on the keyboard, it can be replaced with Keys.DOWN (down arrow, but this pull-down progress is slow)\n",
    "    ActionChains(driver).send_keys(Keys.PAGE_DOWN).perform()\n",
    "\n",
    "    # Scroll down 500 pixels, the mouse position also changes\n",
    "    #driver.execute_script(\"window.scrollBy(0, 500)\", \"\")\n",
    "\n",
    "\n",
    "print(\"\\n總共有\", len(all_titles), \"個發文分享！\\n\")\n",
    "\n",
    "#print(all_titles, '\\n')\n",
    "\n",
    "df = pd.DataFrame(columns = ['發文主題'])\n",
    "\n",
    "lst = []\n",
    "for article in all_titles:\n",
    "    lst.append(article.getText())\n",
    "    #df = df.append({'發文主題': article.getText()}, ignore_index = True)\n",
    "\n",
    "#df_extended = pd.DataFrame(lst, columns=['發文主題'])\n",
    "df = pd.DataFrame(lst, columns=['發文主題'])\n",
    "# or columns=df.columns if identical columns\n",
    "\n",
    "# concatenate to original\n",
    "#df = pd.concat([df, df_extended])\n",
    "\n",
    "df.index += 1\n",
    "\n",
    "df\n",
    "\n",
    "df.style\\\n",
    "    .set_table_styles([ dict(selector = 'th', props = [('text-align', 'center')])])\\\n",
    "    .set_properties(**{'text-align': 'left', 'font-weight': 'bold'}, color = \"blue\")"
   ]
  },
  {
   "cell_type": "code",
   "execution_count": 12,
   "id": "64203e62",
   "metadata": {},
   "outputs": [
    {
     "data": {
      "text/html": [
       "<style type=\"text/css\">\n",
       "#T_1b593 th {\n",
       "  text-align: center;\n",
       "}\n",
       "#T_1b593_row0_col0, #T_1b593_row1_col0, #T_1b593_row2_col0, #T_1b593_row3_col0, #T_1b593_row4_col0, #T_1b593_row5_col0, #T_1b593_row6_col0, #T_1b593_row7_col0, #T_1b593_row8_col0, #T_1b593_row9_col0, #T_1b593_row10_col0, #T_1b593_row11_col0, #T_1b593_row12_col0, #T_1b593_row13_col0, #T_1b593_row14_col0, #T_1b593_row15_col0, #T_1b593_row16_col0, #T_1b593_row17_col0, #T_1b593_row18_col0, #T_1b593_row19_col0 {\n",
       "  text-align: left;\n",
       "  font-weight: bold;\n",
       "  color: blue;\n",
       "}\n",
       "</style>\n",
       "<table id=\"T_1b593\">\n",
       "  <thead>\n",
       "    <tr>\n",
       "      <th class=\"blank level0\" >&nbsp;</th>\n",
       "      <th id=\"T_1b593_level0_col0\" class=\"col_heading level0 col0\" >圖片連結</th>\n",
       "    </tr>\n",
       "  </thead>\n",
       "  <tbody>\n",
       "    <tr>\n",
       "      <th id=\"T_1b593_level0_row0\" class=\"row_heading level0 row0\" >1</th>\n",
       "      <td id=\"T_1b593_row0_col0\" class=\"data row0 col0\" >https://scontent.fkhh1-2.fna.fbcdn.net/v/t39.30808-6/358609972_2999458820198892_1976632779426752520_n.jpg?stp=dst-jpg_p350x350&_nc_cat=108&ccb=1-7&_nc_sid=5cd70e&_nc_ohc=kKg-uZh_emYAX9FNQBR&_nc_oc=AQmBdwyPuDTffRMwnyEwgOhcQ7516Ei458q62106VUAKVyDJUhj1e5Opwj_J5NUT4UvZsKhVeXOqCct0HKrIQv_o&_nc_ht=scontent.fkhh1-2.fna&oh=00_AfBRacoAitP5lD7END8BmiYugBo7hrX5ek_HwfQRq43beQ&oe=64AE3330</td>\n",
       "    </tr>\n",
       "    <tr>\n",
       "      <th id=\"T_1b593_level0_row1\" class=\"row_heading level0 row1\" >2</th>\n",
       "      <td id=\"T_1b593_row1_col0\" class=\"data row1 col0\" >https://scontent.fkhh1-2.fna.fbcdn.net/v/t39.30808-6/358527599_2999458900198884_6637881073017035328_n.jpg?stp=dst-jpg_s600x600&_nc_cat=108&ccb=1-7&_nc_sid=5cd70e&_nc_ohc=fh8Xcub9ppcAX-6H8On&_nc_oc=AQlSWjKL6RiE9sInYzyg_vqf6oNfZvoAFINULPvBVGA_qVjwO0n-v6TgeHnLEWR_zd27Pk3TW-cAPtYito227tvy&_nc_ht=scontent.fkhh1-2.fna&oh=00_AfDF4S9CDrB59v4_zh9nKRHvUEBX6b-VrtxZclbfBecP7g&oe=64AF777C</td>\n",
       "    </tr>\n",
       "    <tr>\n",
       "      <th id=\"T_1b593_level0_row2\" class=\"row_heading level0 row2\" >3</th>\n",
       "      <td id=\"T_1b593_row2_col0\" class=\"data row2 col0\" >https://scontent.fkhh1-1.fna.fbcdn.net/v/t39.30808-6/357725089_2999458793532228_8622148602423536212_n.jpg?stp=dst-jpg_s600x600&_nc_cat=106&ccb=1-7&_nc_sid=5cd70e&_nc_ohc=9D5RzWxkSIgAX-JLe8S&_nc_oc=AQkswjUbkWU-T8t8fweIqCuxICJwpi0LpkbpaWXej-0znyLGQ0D6ktwNrigTFLJxCu3hqBSJ0fOXBFEyL6eTQAjT&_nc_ht=scontent.fkhh1-1.fna&oh=00_AfCSygdaMZMoSY5mPF3gRm1lziGqw5yq5-hj32Lhdw6B3A&oe=64AF2E0B</td>\n",
       "    </tr>\n",
       "    <tr>\n",
       "      <th id=\"T_1b593_level0_row3\" class=\"row_heading level0 row3\" >4</th>\n",
       "      <td id=\"T_1b593_row3_col0\" class=\"data row3 col0\" >https://scontent.fkhh1-2.fna.fbcdn.net/v/t39.30808-6/357736223_2999458860198888_7396194236137656692_n.jpg?stp=dst-jpg_s600x600&_nc_cat=104&ccb=1-7&_nc_sid=5cd70e&_nc_ohc=7wmFFe1FxRAAX9qeIW6&_nc_ht=scontent.fkhh1-2.fna&oh=00_AfCiHKTHDTFSMsgexM9xMoHU0282al60inpVCRnF2odzOg&oe=64AF0FD8</td>\n",
       "    </tr>\n",
       "    <tr>\n",
       "      <th id=\"T_1b593_level0_row4\" class=\"row_heading level0 row4\" >5</th>\n",
       "      <td id=\"T_1b593_row4_col0\" class=\"data row4 col0\" >https://scontent.fkhh1-2.fna.fbcdn.net/v/t39.30808-6/359376529_2999459066865534_5462554928081380391_n.jpg?stp=dst-jpg_s600x600&_nc_cat=109&ccb=1-7&_nc_sid=5cd70e&_nc_ohc=qoZMDqG5sSYAX8Nl3ih&_nc_ht=scontent.fkhh1-2.fna&oh=00_AfDkgxq9vN0bMPJVsK7v0I5ga-MCNnaI9a7DBkvHi6vM4A&oe=64AF0145</td>\n",
       "    </tr>\n",
       "    <tr>\n",
       "      <th id=\"T_1b593_level0_row5\" class=\"row_heading level0 row5\" >6</th>\n",
       "      <td id=\"T_1b593_row5_col0\" class=\"data row5 col0\" >https://scontent.fkhh1-2.fna.fbcdn.net/v/t39.30808-6/357725596_6542269052499914_4692525590462970816_n.jpg?stp=dst-jpg_s600x600&_nc_cat=111&ccb=1-7&_nc_sid=5cd70e&_nc_ohc=nt1TMYpewkgAX9ZJus5&_nc_ht=scontent.fkhh1-2.fna&oh=00_AfD_DcApxa230w5d6SAv3sQm4Ay80_MQz0cM2R3DZ6t70g&oe=64AF282A</td>\n",
       "    </tr>\n",
       "    <tr>\n",
       "      <th id=\"T_1b593_level0_row6\" class=\"row_heading level0 row6\" >7</th>\n",
       "      <td id=\"T_1b593_row6_col0\" class=\"data row6 col0\" >https://scontent.fkhh1-2.fna.fbcdn.net/v/t39.30808-6/358106923_6542269312499888_8212348738835891614_n.jpg?stp=dst-jpg_s600x600&_nc_cat=109&ccb=1-7&_nc_sid=5cd70e&_nc_ohc=XguL9k7dxnEAX9igA2x&_nc_ht=scontent.fkhh1-2.fna&oh=00_AfA6U_z5wZIDvn_MqxX0Vwa5DOgwyI_EuX6fUXhu4e8JrA&oe=64AEABAD</td>\n",
       "    </tr>\n",
       "    <tr>\n",
       "      <th id=\"T_1b593_level0_row7\" class=\"row_heading level0 row7\" >8</th>\n",
       "      <td id=\"T_1b593_row7_col0\" class=\"data row7 col0\" >https://scontent.fkhh1-2.fna.fbcdn.net/v/t39.30808-6/358044981_6542269392499880_5355577257480181333_n.jpg?stp=dst-jpg_s600x600&_nc_cat=111&ccb=1-7&_nc_sid=5cd70e&_nc_ohc=8xLj9QnbutYAX-9qzF_&_nc_ht=scontent.fkhh1-2.fna&oh=00_AfCS1Q7GPciRmxqnYa2mAz2jcYWYZIvbJZ0rQrc8jVxh-g&oe=64B00093</td>\n",
       "    </tr>\n",
       "    <tr>\n",
       "      <th id=\"T_1b593_level0_row8\" class=\"row_heading level0 row8\" >9</th>\n",
       "      <td id=\"T_1b593_row8_col0\" class=\"data row8 col0\" >https://scontent.fkhh1-2.fna.fbcdn.net/v/t39.30808-6/358417959_6542269479166538_164546661644184777_n.jpg?stp=dst-jpg_s600x600&_nc_cat=107&ccb=1-7&_nc_sid=5cd70e&_nc_ohc=TPgOkV9F31EAX-pX6FG&_nc_oc=AQmuN79Q0vYEpnXZxEyQBtlITDBq7Bfi0p_VQKQ5yK21iWxUwbQBu9LFXBPvn05Jz5mSsJ2By3xCMfGHXwZMu9ER&_nc_ht=scontent.fkhh1-2.fna&oh=00_AfA6QN8TaARsWh1drNG0EA8p3sqlXUt57GXr7nsYAhwBgA&oe=64AEED98</td>\n",
       "    </tr>\n",
       "    <tr>\n",
       "      <th id=\"T_1b593_level0_row9\" class=\"row_heading level0 row9\" >10</th>\n",
       "      <td id=\"T_1b593_row9_col0\" class=\"data row9 col0\" >https://scontent.fkhh1-2.fna.fbcdn.net/v/t39.30808-6/358119409_6542269542499865_8492258734975398143_n.jpg?stp=dst-jpg_s600x600&_nc_cat=110&ccb=1-7&_nc_sid=5cd70e&_nc_ohc=m58rc13dEvgAX93HeFr&_nc_ht=scontent.fkhh1-2.fna&oh=00_AfC847J2mIxqkR6CWLe6peZMJ0VM3LkRaMjvqgWZGm2NEA&oe=64AEA3B0</td>\n",
       "    </tr>\n",
       "    <tr>\n",
       "      <th id=\"T_1b593_level0_row10\" class=\"row_heading level0 row10\" >11</th>\n",
       "      <td id=\"T_1b593_row10_col0\" class=\"data row10 col0\" >https://scontent.fkhh1-1.fna.fbcdn.net/v/t39.30808-6/358672881_2998630460281728_7667670164595028535_n.jpg?stp=cp6_dst-jpg_s600x600&_nc_cat=101&ccb=1-7&_nc_sid=5cd70e&_nc_ohc=vE4EitWN2T8AX-BhhuC&_nc_ht=scontent.fkhh1-1.fna&oh=00_AfBNDDEc9uKIIAqUlPcyArjH8CYVeIawHHzf0bfHDDO_oA&oe=64AEC7F4</td>\n",
       "    </tr>\n",
       "    <tr>\n",
       "      <th id=\"T_1b593_level0_row11\" class=\"row_heading level0 row11\" >12</th>\n",
       "      <td id=\"T_1b593_row11_col0\" class=\"data row11 col0\" >https://scontent.fkhh1-1.fna.fbcdn.net/v/t39.30808-6/358694927_2998630343615073_6828675017922576765_n.jpg?stp=dst-jpg_p552x414&_nc_cat=106&ccb=1-7&_nc_sid=5cd70e&_nc_ohc=mGbFBRNbjz0AX-QXAtW&_nc_ht=scontent.fkhh1-1.fna&oh=00_AfBWUagaCj6RL26_TtFOFlIOv7yCb_gc4XYn3vsQKhxWLw&oe=64AEC5AC</td>\n",
       "    </tr>\n",
       "    <tr>\n",
       "      <th id=\"T_1b593_level0_row12\" class=\"row_heading level0 row12\" >13</th>\n",
       "      <td id=\"T_1b593_row12_col0\" class=\"data row12 col0\" >https://scontent.fkhh1-1.fna.fbcdn.net/v/t39.30808-6/358715124_2998630333615074_3864916043311658332_n.jpg?stp=dst-jpg_s600x600&_nc_cat=100&ccb=1-7&_nc_sid=5cd70e&_nc_ohc=TznmrDHMjiIAX_ZJJhu&_nc_ht=scontent.fkhh1-1.fna&oh=00_AfCuq3L8hUUkT80zwNpSGM_ks3Fg1wOiW0CTvrarqNd2cQ&oe=64AE7CDD</td>\n",
       "    </tr>\n",
       "    <tr>\n",
       "      <th id=\"T_1b593_level0_row13\" class=\"row_heading level0 row13\" >14</th>\n",
       "      <td id=\"T_1b593_row13_col0\" class=\"data row13 col0\" >https://scontent.fkhh1-2.fna.fbcdn.net/v/t39.30808-6/358576588_2998630533615054_9121436738304326523_n.jpg?stp=dst-jpg_s600x600&_nc_cat=104&ccb=1-7&_nc_sid=5cd70e&_nc_ohc=lS88apyo_fkAX9QhETT&_nc_ht=scontent.fkhh1-2.fna&oh=00_AfCmEUG2uydeldhy4DHeU3H_H8oBYdVx381aujhzOsU6DQ&oe=64AEDAF8</td>\n",
       "    </tr>\n",
       "    <tr>\n",
       "      <th id=\"T_1b593_level0_row14\" class=\"row_heading level0 row14\" >15</th>\n",
       "      <td id=\"T_1b593_row14_col0\" class=\"data row14 col0\" >https://scontent.fkhh1-1.fna.fbcdn.net/v/t39.30808-6/358556288_2998630380281736_7625052913301662188_n.jpg?stp=dst-jpg_p417x417&_nc_cat=106&ccb=1-7&_nc_sid=5cd70e&_nc_ohc=Yemtptk3DNcAX_0rHcm&_nc_ht=scontent.fkhh1-1.fna&oh=00_AfC53mgihHdl6ufSHAJQMZyGopJikBY6pKe88eEwR8srwQ&oe=64AFF7C5</td>\n",
       "    </tr>\n",
       "    <tr>\n",
       "      <th id=\"T_1b593_level0_row15\" class=\"row_heading level0 row15\" >16</th>\n",
       "      <td id=\"T_1b593_row15_col0\" class=\"data row15 col0\" >https://scontent.fkhh1-2.fna.fbcdn.net/v/t39.30808-6/358124555_2997672713710836_4534686427931052727_n.jpg?stp=dst-jpg_p403x403&_nc_cat=111&ccb=1-7&_nc_sid=5cd70e&_nc_ohc=A1yFU0tmK1oAX9UZIzF&_nc_ht=scontent.fkhh1-2.fna&oh=00_AfCGPUkP9FQXCBy2gGq9zZGuFrGUttakbG3dlCv8GT-dSw&oe=64AF6AB9</td>\n",
       "    </tr>\n",
       "    <tr>\n",
       "      <th id=\"T_1b593_level0_row16\" class=\"row_heading level0 row16\" >17</th>\n",
       "      <td id=\"T_1b593_row16_col0\" class=\"data row16 col0\" >https://scontent.fkhh1-2.fna.fbcdn.net/v/t39.30808-6/358473989_2997672763710831_7242122353083823315_n.jpg?stp=dst-jpg_s600x600&_nc_cat=108&ccb=1-7&_nc_sid=5cd70e&_nc_ohc=BcvtaqMphWYAX-xvZr7&_nc_ht=scontent.fkhh1-2.fna&oh=00_AfAjv6dSMBXkzgKtwXYOqEbZE8Z_XsgqWhuYsBQHzYxr3g&oe=64AED04B</td>\n",
       "    </tr>\n",
       "    <tr>\n",
       "      <th id=\"T_1b593_level0_row17\" class=\"row_heading level0 row17\" >18</th>\n",
       "      <td id=\"T_1b593_row17_col0\" class=\"data row17 col0\" >https://scontent.fkhh1-1.fna.fbcdn.net/v/t39.30808-6/358595105_2997672780377496_8352313053379203990_n.jpg?stp=dst-jpg_s600x600&_nc_cat=100&ccb=1-7&_nc_sid=5cd70e&_nc_ohc=wv6E1zLsxHYAX8De0mX&_nc_ht=scontent.fkhh1-1.fna&oh=00_AfCN15ZfmRaN36ufAl1ImkX2vahDCtYVqedJcLS8WDtAbw&oe=64AF262D</td>\n",
       "    </tr>\n",
       "    <tr>\n",
       "      <th id=\"T_1b593_level0_row18\" class=\"row_heading level0 row18\" >19</th>\n",
       "      <td id=\"T_1b593_row18_col0\" class=\"data row18 col0\" >https://scontent.fkhh1-1.fna.fbcdn.net/v/t39.30808-6/358566762_2997672997044141_2579377528062776610_n.jpg?stp=dst-jpg_s600x600&_nc_cat=103&ccb=1-7&_nc_sid=5cd70e&_nc_ohc=p5r1VQy__5wAX_nqhdB&_nc_ht=scontent.fkhh1-1.fna&oh=00_AfDE-AI2jdP2tWzRiRqETzTpM4Y8a9U2I_DxQz15FO70jA&oe=64AF5FCD</td>\n",
       "    </tr>\n",
       "    <tr>\n",
       "      <th id=\"T_1b593_level0_row19\" class=\"row_heading level0 row19\" >20</th>\n",
       "      <td id=\"T_1b593_row19_col0\" class=\"data row19 col0\" >https://scontent.fkhh1-2.fna.fbcdn.net/v/t39.30808-6/358096253_2997672723710835_6821294883343979872_n.jpg?stp=dst-jpg_s600x600&_nc_cat=109&ccb=1-7&_nc_sid=5cd70e&_nc_ohc=oXX94JR-33wAX_5Iena&_nc_ht=scontent.fkhh1-2.fna&oh=00_AfDEoFe4eIfxp6ElW8ocXzvqcgdAwQOFMuexqUx-ZWo5VQ&oe=64AF4EB7</td>\n",
       "    </tr>\n",
       "  </tbody>\n",
       "</table>\n"
      ],
      "text/plain": [
       "<pandas.io.formats.style.Styler at 0x1a2636e3580>"
      ]
     },
     "execution_count": 12,
     "metadata": {},
     "output_type": "execute_result"
    }
   ],
   "source": [
    "max_scroll_pages = 1    # 欲爬取的頁面數目，此頁面數字可以調整。\n",
    "\n",
    "sec_to_pause = 1    # 暫停駐留在一個頁面的時間，以秒為單位。\n",
    "\n",
    "for repeated_action in range(1, max_scroll_pages + 1):\n",
    "\n",
    "    soup = BeautifulSoup(driver.page_source, 'lxml')    # 使用 BeautifulSoup() 來解析取回頁面，解釋模式選擇使用 'lxml' 模式。\n",
    "    \n",
    "    all_imgs = soup.find_all('img', {'class':'x1ey2m1c xds687c x5yr21d x10l6tqk x17qophe x13vifvy xh8yej3'})\n",
    "    \n",
    "    time.sleep(sec_to_pause)   # 每滾動一次暫停在該頁面數秒鐘，此時間可以調整。\n",
    "\n",
    "    # Similar to pressing the PgDn button on the keyboard, it can be replaced with Keys.DOWN (down arrow, but this pull-down progress is slow)\n",
    "    ActionChains(driver).send_keys(Keys.PAGE_DOWN).perform()\n",
    "\n",
    "    # Scroll down 500 pixels, the mouse position also changes\n",
    "    #driver.execute_script(\"window.scrollBy(0, 500)\", \"\")\n",
    "\n",
    "imgs = []\n",
    "for article in all_imgs:\n",
    "    imgs.append(article['src'])\n",
    "\n",
    "df = pd.DataFrame(imgs, columns=['圖片連結'])\n",
    "# or columns=df.columns if identical columns\n",
    "\n",
    "df.index += 1\n",
    "\n",
    "df\n",
    "\n",
    "df.style\\\n",
    "    .set_table_styles([ dict(selector = 'th', props = [('text-align', 'center')])])\\\n",
    "    .set_properties(**{'text-align': 'left', 'font-weight': 'bold'}, color = \"blue\")"
   ]
  },
  {
   "cell_type": "code",
   "execution_count": 34,
   "id": "c73dc39f",
   "metadata": {},
   "outputs": [],
   "source": [
    "import requests\n",
    "img_data = requests.get(imgs[0]).content \n",
    "\n",
    "with open(\"netflix.jpg\", \"wb\") as handler: \n",
    "    handler.write(img_data) \n",
    "\n",
    "driver.close()"
   ]
  },
  {
   "cell_type": "code",
   "execution_count": 13,
   "id": "5c794493",
   "metadata": {},
   "outputs": [],
   "source": [
    "import os\n",
    "\n",
    "for index, link in enumerate(imgs):\n",
    "    if not os.path.exists(\"images\"):\n",
    "        os.mkdir(\"images\")  # 建立資料夾\n",
    " \n",
    "    img = requests.get(link)  # 下載圖片\n",
    " \n",
    "    with open(\"images\\\\\" + \"fbk_club0{}.jpg\".format(index+1), \"wb\") as file:  # 開啟資料夾及命名圖片檔\n",
    "        file.write(img.content)  # 寫入圖片的二進位碼\n",
    "\n",
    "#原本寫法        \n",
    "#imgs_data = []\n",
    "\n",
    "#for i in range(len(imgs)):  \n",
    "\n",
    "#    print(i)\n",
    "    \n",
    "#    #imgs_data[i].append(requests.get(imgs[i]).content)\n",
    "#    img_wb = requests.get(imgs[i])\n",
    "#    with open(\"test{}.jpg\".format(i+1), \"wb\") as handler: \n",
    "        \n",
    "#        handler.write(img_wb.content) "
   ]
  },
  {
   "cell_type": "markdown",
   "id": "a766a9ec",
   "metadata": {},
   "source": [
    "## 爬蟲 巴哈姆特電玩資訊網站\n",
    "\n",
    "### 已知問題\n",
    "1. 使用selenium webdriver開啟的登入網頁會出現\"我不是機器人\"的問題\n",
    "2. 手邊沒資源也沒有技術來破解\"我不是機器人\"登入問題\n",
    "(改用手動登入後，將cookie給記錄下來後，再重新添加cookie至driver，即可解決(?)\n",
    "### 未確定問題\n",
    "1. 巴哈姆特登入的cookie的時效多久(可能只有幾小時*)"
   ]
  },
  {
   "cell_type": "code",
   "execution_count": 67,
   "id": "34199d05",
   "metadata": {},
   "outputs": [],
   "source": [
    "options.add_argument(\"User-Agent=Mozilla/5.0 (Windows NT 10.0; Win64; x64)\\\n",
    "                     AppleWebKit/537.36 (KHTML, like Gecko) Chrome/114.0.0.0 Safari/537.36\")"
   ]
  },
  {
   "cell_type": "code",
   "execution_count": 68,
   "id": "ff7cd4ba",
   "metadata": {},
   "outputs": [
    {
     "name": "stdout",
     "output_type": "stream",
     "text": [
      "輸入巴哈姆特帳號：sdd989888\n",
      "輸入密碼········\n"
     ]
    }
   ],
   "source": [
    "## 登入帳號密碼\n",
    "\n",
    "useracc = input(\"輸入巴哈姆特帳號：\")\n",
    "\n",
    "userpass = getpass.getpass(\"輸入密碼\")"
   ]
  },
  {
   "cell_type": "code",
   "execution_count": 69,
   "id": "cc9032e9",
   "metadata": {},
   "outputs": [],
   "source": [
    "import json\n",
    "\n",
    "login_to_pause = 3\n",
    "bahamute_login = \"https://user.gamer.com.tw/login.php\"\n",
    "\n",
    "driver = webdriver.Chrome(options = options)\n",
    "driver.get(bahamute_login)\n",
    "\n",
    "driver.find_element('name', \"userid\").send_keys(useracc)\n",
    "driver.find_element('name', \"password\").send_keys(userpass)\n",
    "# driver.find_element('id', \"btn-login\").submit()\n",
    "\n",
    "driver.implicitly_wait(login_to_pause)\n",
    "time.sleep(30)\n",
    "\n",
    "cookies = driver.get_cookies()\n",
    "# print(cookies)\n",
    "\n",
    "with open(\"cookies_bahamute.json\", \"w\") as f:\n",
    "    f.write(json.dumps(cookies))\n"
   ]
  },
  {
   "cell_type": "code",
   "execution_count": 70,
   "id": "d16d516c",
   "metadata": {},
   "outputs": [],
   "source": [
    "bahamute = \"https://www.gamer.com.tw/\"\n",
    "\n",
    "# 紀錄cookies後再次登入\n",
    "driver = webdriver.Chrome(options = options)\n",
    "driver.get(bahamute)\n",
    "driver.delete_all_cookies()\n",
    "\n",
    "with open(\"cookies_bahamute.json\", 'r') as of:\n",
    "    cookie_list = json.loads(of.read())\n",
    "\n",
    "# 逐行添加cookie\n",
    "for cookie in cookie_list:\n",
    "    driver.add_cookie(cookie)\n",
    "\n",
    "# 重新整理後會發現已經登入了\n",
    "driver.refresh()\n",
    "\n",
    "#driver.find_element('name', \"userid\").send_keys(useracc)\n",
    "#driver.find_element('name', \"password\").send_keys(userpass)\n",
    "#driver.find_element('id', \"btn-login\").submit()\n",
    "\n",
    "driver.implicitly_wait(login_to_pause)"
   ]
  },
  {
   "cell_type": "code",
   "execution_count": 154,
   "id": "e347964b",
   "metadata": {},
   "outputs": [
    {
     "name": "stdout",
     "output_type": "stream",
     "text": [
      "抓取內容中...\n",
      "提取標籤內容中...\n",
      "以提取所有內容\n"
     ]
    }
   ],
   "source": [
    "# page=1、2、3...依此類推\n",
    "bahamute = \"https://forum.gamer.com.tw/B.php?page=1&bsn=60076\"\n",
    "\n",
    "print(\"抓取內容中...\")\n",
    "\n",
    "driver.get(bahamute)\n",
    "soup = BeautifulSoup(driver.page_source, 'lxml')\n",
    "\n",
    "title_propaganda = soup.find_all(\"a\",{\"class\" : \"b-list__main__title\"})\n",
    "title_main = soup.find_all(\"p\",{\"class\" : \"b-list__main__title\"})\n",
    "master = soup.find_all(\"p\", {\"class\" : \"b-list__count__user\"})\n",
    "\n",
    "\n",
    "# 無法理解...加上這一行之後無法透過forloop把bs4.element.Result的title_propaganda改成titles的bs4.element.Tag的類型\n",
    "# https://stackoverflow.com/questions/72434442/how-to-fix-attributeerror-resultset-object-has-no-attribute-get-text\n",
    "# title_propaganda.append(title_main) \n",
    "\n",
    "\n",
    "print(\"提取標籤內容中...\")\n",
    "title_ls = []\n",
    "for titles in title_propaganda:\n",
    "    title_ls.append(titles.get_text())\n",
    "    \n",
    "for titles in title_main:\n",
    "    title_ls.append(titles.get_text())\n",
    "\n",
    "\n",
    "master_ls = []\n",
    "for masters in master:\n",
    "    master_ls.append(masters.get_text())\n",
    "\n",
    "\n",
    "\n",
    "print(\"以提取所有內容\")\n",
    "\n",
    "df_baha = pd.DataFrame(masters)"
   ]
  },
  {
   "cell_type": "code",
   "execution_count": 128,
   "id": "6960753d",
   "metadata": {},
   "outputs": [
    {
     "data": {
      "text/plain": [
       "bs4.element.Tag"
      ]
     },
     "execution_count": 128,
     "metadata": {},
     "output_type": "execute_result"
    }
   ],
   "source": [
    "type(titles)"
   ]
  },
  {
   "cell_type": "code",
   "execution_count": 155,
   "id": "151d3b2a",
   "metadata": {},
   "outputs": [
    {
     "data": {
      "text/plain": [
       "['johnny860726',\n",
       " 'edfrmpc44ic',\n",
       " 'henry72122',\n",
       " 'a29657016',\n",
       " 'rainnnn27',\n",
       " 'kuroko27169',\n",
       " 'jeff81049',\n",
       " 'firejp6',\n",
       " 'bigmac108',\n",
       " 'oska243',\n",
       " 'beautifully',\n",
       " 'jkl098178201',\n",
       " 'vm0vm4',\n",
       " 'cutarlen1223',\n",
       " 'cd8008012115',\n",
       " 'hugefire4444',\n",
       " 'm122306835',\n",
       " 'john95173',\n",
       " 'catporn',\n",
       " 'HoshizoraCat',\n",
       " 'CCHAHA7788',\n",
       " 'zero77716',\n",
       " 'p1048576',\n",
       " 'abcd8820',\n",
       " 'Skycat119',\n",
       " 'FCAK2895',\n",
       " 'as36865231',\n",
       " 'vitamilk',\n",
       " 'howie123',\n",
       " 'dafeichai']"
      ]
     },
     "execution_count": 155,
     "metadata": {},
     "output_type": "execute_result"
    }
   ],
   "source": [
    "# 去掉master_ls[]中多餘的\"\\n\"\n",
    "for i in range(len(master_ls)):\n",
    "    master_ls[i] = master_ls[i].replace(\"\\n\",\"\")\n",
    "\n",
    "master_ls"
   ]
  },
  {
   "cell_type": "code",
   "execution_count": 156,
   "id": "08705382",
   "metadata": {},
   "outputs": [
    {
     "data": {
      "text/plain": [
       "['【分流】板建區 / 進板圖招募 / 現任小組名單',\n",
       " '【宣導】兒少性剝削修正法案宣導',\n",
       " '【問題】【認真】新竹協尋 玄鳳黑牛鸚鵡',\n",
       " '【認真】楊梅區武營街與梅山西街市場路口，協尋行車記錄器',\n",
       " '【問題】【認真】雲林協尋 白底橘虎斑貓',\n",
       " '【問題】【認真】萬華協尋 褐色虎斑貓',\n",
       " '【問題】場外人讀大學的目的是什麼？',\n",
       " '場外魔物獵人串  破曉  6/8 破曉最後更新 原初爵銀龍',\n",
       " '【問題】是不是幾乎沒有人討厭咖哩?',\n",
       " '新學期的開始我們先來做自我介紹吧',\n",
       " '【討論】一人一句名言，其他人猜人物',\n",
       " '【閒聊】馬斯克跟祖克柏格鬥 怎麼想都是馬斯克贏阿',\n",
       " '【問題】大家玩遊戲都喜歡甚麼職業呢',\n",
       " '【閒聊】你們在DC群最常用的貼圖是什麼',\n",
       " '【情報】獨家》「鐵門生鏽」房東求償2.5萬 房客控「自然現象」',\n",
       " '【心得】張家航的call in超好笑的',\n",
       " '【閒聊】巴哈市集旁邊捷入口有一段超臭',\n",
       " '【閒聊】雖然已經過氣了，但有沒有人想問跟槍彈辯駁有關的問題?',\n",
       " '【閒聊】馬德這裡也太多皇民了',\n",
       " '512首動漫歌曲殘酷二選一',\n",
       " '【閒聊】在餐廳吃飯，看到有漂亮小姊姊笑著向我走來',\n",
       " '【問題】今天台北地下街484特別臭？',\n",
       " '【情報】山猴子的一生',\n",
       " '【閒聊】一天一張追劇的截圖',\n",
       " '［第488天］天佑烏克蘭｜反攻進行式 & 普里格津被起訴和「失蹤」',\n",
       " '【心得】好想射精喔，可是熱到沒心情尻槍',\n",
       " '【東方】偷偷地…檸檬東方Project串',\n",
       " '【討論】台灣IKEA刪除諧音圖「逮八人」的facebook貼文',\n",
       " '【討論】統神已離婚機率高達87% (003買麥當勞事件)',\n",
       " '【情報】本季的妙廟美少女有料喔!']"
      ]
     },
     "execution_count": 156,
     "metadata": {},
     "output_type": "execute_result"
    }
   ],
   "source": [
    "title_ls"
   ]
  },
  {
   "cell_type": "code",
   "execution_count": 65,
   "id": "3dc70b59",
   "metadata": {},
   "outputs": [
    {
     "name": "stdout",
     "output_type": "stream",
     "text": [
      "以提取內容\n"
     ]
    },
    {
     "data": {
      "text/plain": [
       "'ejiejicj8'"
      ]
     },
     "execution_count": 65,
     "metadata": {},
     "output_type": "execute_result"
    }
   ],
   "source": [
    "html_t = \"\"\"<html><head><title>Hello World</title></head>\n",
    "            <body><h2>Test Header</h2><p class=\"b-list__count__user\"><a href=\"aaaa\" target=\"_blank\">ejiejicj8</a></p>\n",
    "            </body></html>\"\"\"\n",
    "\n",
    "soup = BeautifulSoup(html_t, 'lxml')\n",
    "\n",
    "master = soup.find_all(\"p\", {\"class\" : \"b-list__count__user\"})\n",
    "\n",
    "for masters in master:\n",
    "    print(\"以提取內容\")\n",
    "masters.getText()"
   ]
  },
  {
   "cell_type": "code",
   "execution_count": 183,
   "id": "3a1f4be6",
   "metadata": {},
   "outputs": [
    {
     "data": {
      "text/html": [
       "<style type=\"text/css\">\n",
       "#T_40ee4 th {\n",
       "  text-align: center;\n",
       "}\n",
       "#T_40ee4_row0_col0, #T_40ee4_row0_col1, #T_40ee4_row1_col0, #T_40ee4_row1_col1, #T_40ee4_row2_col0, #T_40ee4_row2_col1, #T_40ee4_row3_col0, #T_40ee4_row3_col1, #T_40ee4_row4_col0, #T_40ee4_row4_col1, #T_40ee4_row5_col0, #T_40ee4_row5_col1, #T_40ee4_row6_col0, #T_40ee4_row6_col1, #T_40ee4_row7_col0, #T_40ee4_row7_col1, #T_40ee4_row8_col0, #T_40ee4_row8_col1, #T_40ee4_row9_col0, #T_40ee4_row9_col1, #T_40ee4_row10_col0, #T_40ee4_row10_col1, #T_40ee4_row11_col0, #T_40ee4_row11_col1, #T_40ee4_row12_col0, #T_40ee4_row12_col1, #T_40ee4_row13_col0, #T_40ee4_row13_col1, #T_40ee4_row14_col0, #T_40ee4_row14_col1, #T_40ee4_row15_col0, #T_40ee4_row15_col1, #T_40ee4_row16_col0, #T_40ee4_row16_col1, #T_40ee4_row17_col0, #T_40ee4_row17_col1, #T_40ee4_row18_col0, #T_40ee4_row18_col1, #T_40ee4_row19_col0, #T_40ee4_row19_col1, #T_40ee4_row20_col0, #T_40ee4_row20_col1, #T_40ee4_row21_col0, #T_40ee4_row21_col1, #T_40ee4_row22_col0, #T_40ee4_row22_col1, #T_40ee4_row23_col0, #T_40ee4_row23_col1, #T_40ee4_row24_col0, #T_40ee4_row24_col1, #T_40ee4_row25_col0, #T_40ee4_row25_col1, #T_40ee4_row26_col0, #T_40ee4_row26_col1, #T_40ee4_row27_col0, #T_40ee4_row27_col1, #T_40ee4_row28_col0, #T_40ee4_row28_col1, #T_40ee4_row29_col0, #T_40ee4_row29_col1 {\n",
       "  text-align: left;\n",
       "  font-weight: bold;\n",
       "}\n",
       "</style>\n",
       "<table id=\"T_40ee4\">\n",
       "  <thead>\n",
       "    <tr>\n",
       "      <th class=\"blank level0\" >&nbsp;</th>\n",
       "      <th id=\"T_40ee4_level0_col0\" class=\"col_heading level0 col0\" >作者</th>\n",
       "      <th id=\"T_40ee4_level0_col1\" class=\"col_heading level0 col1\" >發文標題</th>\n",
       "    </tr>\n",
       "  </thead>\n",
       "  <tbody>\n",
       "    <tr>\n",
       "      <th id=\"T_40ee4_level0_row0\" class=\"row_heading level0 row0\" >1</th>\n",
       "      <td id=\"T_40ee4_row0_col0\" class=\"data row0 col0\" >johnny860726</td>\n",
       "      <td id=\"T_40ee4_row0_col1\" class=\"data row0 col1\" >【分流】板建區 / 進板圖招募 / 現任小組名單</td>\n",
       "    </tr>\n",
       "    <tr>\n",
       "      <th id=\"T_40ee4_level0_row1\" class=\"row_heading level0 row1\" >2</th>\n",
       "      <td id=\"T_40ee4_row1_col0\" class=\"data row1 col0\" >edfrmpc44ic</td>\n",
       "      <td id=\"T_40ee4_row1_col1\" class=\"data row1 col1\" >【宣導】兒少性剝削修正法案宣導</td>\n",
       "    </tr>\n",
       "    <tr>\n",
       "      <th id=\"T_40ee4_level0_row2\" class=\"row_heading level0 row2\" >3</th>\n",
       "      <td id=\"T_40ee4_row2_col0\" class=\"data row2 col0\" >henry72122</td>\n",
       "      <td id=\"T_40ee4_row2_col1\" class=\"data row2 col1\" >【問題】【認真】新竹協尋 玄鳳黑牛鸚鵡</td>\n",
       "    </tr>\n",
       "    <tr>\n",
       "      <th id=\"T_40ee4_level0_row3\" class=\"row_heading level0 row3\" >4</th>\n",
       "      <td id=\"T_40ee4_row3_col0\" class=\"data row3 col0\" >a29657016</td>\n",
       "      <td id=\"T_40ee4_row3_col1\" class=\"data row3 col1\" >【認真】楊梅區武營街與梅山西街市場路口，協尋行車記錄器</td>\n",
       "    </tr>\n",
       "    <tr>\n",
       "      <th id=\"T_40ee4_level0_row4\" class=\"row_heading level0 row4\" >5</th>\n",
       "      <td id=\"T_40ee4_row4_col0\" class=\"data row4 col0\" >rainnnn27</td>\n",
       "      <td id=\"T_40ee4_row4_col1\" class=\"data row4 col1\" >【問題】【認真】雲林協尋 白底橘虎斑貓</td>\n",
       "    </tr>\n",
       "    <tr>\n",
       "      <th id=\"T_40ee4_level0_row5\" class=\"row_heading level0 row5\" >6</th>\n",
       "      <td id=\"T_40ee4_row5_col0\" class=\"data row5 col0\" >kuroko27169</td>\n",
       "      <td id=\"T_40ee4_row5_col1\" class=\"data row5 col1\" >【問題】【認真】萬華協尋 褐色虎斑貓</td>\n",
       "    </tr>\n",
       "    <tr>\n",
       "      <th id=\"T_40ee4_level0_row6\" class=\"row_heading level0 row6\" >7</th>\n",
       "      <td id=\"T_40ee4_row6_col0\" class=\"data row6 col0\" >jeff81049</td>\n",
       "      <td id=\"T_40ee4_row6_col1\" class=\"data row6 col1\" >【問題】場外人讀大學的目的是什麼？</td>\n",
       "    </tr>\n",
       "    <tr>\n",
       "      <th id=\"T_40ee4_level0_row7\" class=\"row_heading level0 row7\" >8</th>\n",
       "      <td id=\"T_40ee4_row7_col0\" class=\"data row7 col0\" >firejp6</td>\n",
       "      <td id=\"T_40ee4_row7_col1\" class=\"data row7 col1\" >場外魔物獵人串  破曉  6/8 破曉最後更新 原初爵銀龍</td>\n",
       "    </tr>\n",
       "    <tr>\n",
       "      <th id=\"T_40ee4_level0_row8\" class=\"row_heading level0 row8\" >9</th>\n",
       "      <td id=\"T_40ee4_row8_col0\" class=\"data row8 col0\" >bigmac108</td>\n",
       "      <td id=\"T_40ee4_row8_col1\" class=\"data row8 col1\" >【問題】是不是幾乎沒有人討厭咖哩?</td>\n",
       "    </tr>\n",
       "    <tr>\n",
       "      <th id=\"T_40ee4_level0_row9\" class=\"row_heading level0 row9\" >10</th>\n",
       "      <td id=\"T_40ee4_row9_col0\" class=\"data row9 col0\" >oska243</td>\n",
       "      <td id=\"T_40ee4_row9_col1\" class=\"data row9 col1\" >新學期的開始我們先來做自我介紹吧</td>\n",
       "    </tr>\n",
       "    <tr>\n",
       "      <th id=\"T_40ee4_level0_row10\" class=\"row_heading level0 row10\" >11</th>\n",
       "      <td id=\"T_40ee4_row10_col0\" class=\"data row10 col0\" >beautifully</td>\n",
       "      <td id=\"T_40ee4_row10_col1\" class=\"data row10 col1\" >【討論】一人一句名言，其他人猜人物</td>\n",
       "    </tr>\n",
       "    <tr>\n",
       "      <th id=\"T_40ee4_level0_row11\" class=\"row_heading level0 row11\" >12</th>\n",
       "      <td id=\"T_40ee4_row11_col0\" class=\"data row11 col0\" >jkl098178201</td>\n",
       "      <td id=\"T_40ee4_row11_col1\" class=\"data row11 col1\" >【閒聊】馬斯克跟祖克柏格鬥 怎麼想都是馬斯克贏阿</td>\n",
       "    </tr>\n",
       "    <tr>\n",
       "      <th id=\"T_40ee4_level0_row12\" class=\"row_heading level0 row12\" >13</th>\n",
       "      <td id=\"T_40ee4_row12_col0\" class=\"data row12 col0\" >vm0vm4</td>\n",
       "      <td id=\"T_40ee4_row12_col1\" class=\"data row12 col1\" >【問題】大家玩遊戲都喜歡甚麼職業呢</td>\n",
       "    </tr>\n",
       "    <tr>\n",
       "      <th id=\"T_40ee4_level0_row13\" class=\"row_heading level0 row13\" >14</th>\n",
       "      <td id=\"T_40ee4_row13_col0\" class=\"data row13 col0\" >cutarlen1223</td>\n",
       "      <td id=\"T_40ee4_row13_col1\" class=\"data row13 col1\" >【閒聊】你們在DC群最常用的貼圖是什麼</td>\n",
       "    </tr>\n",
       "    <tr>\n",
       "      <th id=\"T_40ee4_level0_row14\" class=\"row_heading level0 row14\" >15</th>\n",
       "      <td id=\"T_40ee4_row14_col0\" class=\"data row14 col0\" >cd8008012115</td>\n",
       "      <td id=\"T_40ee4_row14_col1\" class=\"data row14 col1\" >【情報】獨家》「鐵門生鏽」房東求償2.5萬 房客控「自然現象」</td>\n",
       "    </tr>\n",
       "    <tr>\n",
       "      <th id=\"T_40ee4_level0_row15\" class=\"row_heading level0 row15\" >16</th>\n",
       "      <td id=\"T_40ee4_row15_col0\" class=\"data row15 col0\" >hugefire4444</td>\n",
       "      <td id=\"T_40ee4_row15_col1\" class=\"data row15 col1\" >【心得】張家航的call in超好笑的</td>\n",
       "    </tr>\n",
       "    <tr>\n",
       "      <th id=\"T_40ee4_level0_row16\" class=\"row_heading level0 row16\" >17</th>\n",
       "      <td id=\"T_40ee4_row16_col0\" class=\"data row16 col0\" >m122306835</td>\n",
       "      <td id=\"T_40ee4_row16_col1\" class=\"data row16 col1\" >【閒聊】巴哈市集旁邊捷入口有一段超臭</td>\n",
       "    </tr>\n",
       "    <tr>\n",
       "      <th id=\"T_40ee4_level0_row17\" class=\"row_heading level0 row17\" >18</th>\n",
       "      <td id=\"T_40ee4_row17_col0\" class=\"data row17 col0\" >john95173</td>\n",
       "      <td id=\"T_40ee4_row17_col1\" class=\"data row17 col1\" >【閒聊】雖然已經過氣了，但有沒有人想問跟槍彈辯駁有關的問題?</td>\n",
       "    </tr>\n",
       "    <tr>\n",
       "      <th id=\"T_40ee4_level0_row18\" class=\"row_heading level0 row18\" >19</th>\n",
       "      <td id=\"T_40ee4_row18_col0\" class=\"data row18 col0\" >catporn</td>\n",
       "      <td id=\"T_40ee4_row18_col1\" class=\"data row18 col1\" >【閒聊】馬德這裡也太多皇民了</td>\n",
       "    </tr>\n",
       "    <tr>\n",
       "      <th id=\"T_40ee4_level0_row19\" class=\"row_heading level0 row19\" >20</th>\n",
       "      <td id=\"T_40ee4_row19_col0\" class=\"data row19 col0\" >HoshizoraCat</td>\n",
       "      <td id=\"T_40ee4_row19_col1\" class=\"data row19 col1\" >512首動漫歌曲殘酷二選一</td>\n",
       "    </tr>\n",
       "    <tr>\n",
       "      <th id=\"T_40ee4_level0_row20\" class=\"row_heading level0 row20\" >21</th>\n",
       "      <td id=\"T_40ee4_row20_col0\" class=\"data row20 col0\" >CCHAHA7788</td>\n",
       "      <td id=\"T_40ee4_row20_col1\" class=\"data row20 col1\" >【閒聊】在餐廳吃飯，看到有漂亮小姊姊笑著向我走來</td>\n",
       "    </tr>\n",
       "    <tr>\n",
       "      <th id=\"T_40ee4_level0_row21\" class=\"row_heading level0 row21\" >22</th>\n",
       "      <td id=\"T_40ee4_row21_col0\" class=\"data row21 col0\" >zero77716</td>\n",
       "      <td id=\"T_40ee4_row21_col1\" class=\"data row21 col1\" >【問題】今天台北地下街484特別臭？</td>\n",
       "    </tr>\n",
       "    <tr>\n",
       "      <th id=\"T_40ee4_level0_row22\" class=\"row_heading level0 row22\" >23</th>\n",
       "      <td id=\"T_40ee4_row22_col0\" class=\"data row22 col0\" >p1048576</td>\n",
       "      <td id=\"T_40ee4_row22_col1\" class=\"data row22 col1\" >【情報】山猴子的一生</td>\n",
       "    </tr>\n",
       "    <tr>\n",
       "      <th id=\"T_40ee4_level0_row23\" class=\"row_heading level0 row23\" >24</th>\n",
       "      <td id=\"T_40ee4_row23_col0\" class=\"data row23 col0\" >abcd8820</td>\n",
       "      <td id=\"T_40ee4_row23_col1\" class=\"data row23 col1\" >【閒聊】一天一張追劇的截圖</td>\n",
       "    </tr>\n",
       "    <tr>\n",
       "      <th id=\"T_40ee4_level0_row24\" class=\"row_heading level0 row24\" >25</th>\n",
       "      <td id=\"T_40ee4_row24_col0\" class=\"data row24 col0\" >Skycat119</td>\n",
       "      <td id=\"T_40ee4_row24_col1\" class=\"data row24 col1\" >［第488天］天佑烏克蘭｜反攻進行式 & 普里格津被起訴和「失蹤」</td>\n",
       "    </tr>\n",
       "    <tr>\n",
       "      <th id=\"T_40ee4_level0_row25\" class=\"row_heading level0 row25\" >26</th>\n",
       "      <td id=\"T_40ee4_row25_col0\" class=\"data row25 col0\" >FCAK2895</td>\n",
       "      <td id=\"T_40ee4_row25_col1\" class=\"data row25 col1\" >【心得】好想射精喔，可是熱到沒心情尻槍</td>\n",
       "    </tr>\n",
       "    <tr>\n",
       "      <th id=\"T_40ee4_level0_row26\" class=\"row_heading level0 row26\" >27</th>\n",
       "      <td id=\"T_40ee4_row26_col0\" class=\"data row26 col0\" >as36865231</td>\n",
       "      <td id=\"T_40ee4_row26_col1\" class=\"data row26 col1\" >【東方】偷偷地…檸檬東方Project串</td>\n",
       "    </tr>\n",
       "    <tr>\n",
       "      <th id=\"T_40ee4_level0_row27\" class=\"row_heading level0 row27\" >28</th>\n",
       "      <td id=\"T_40ee4_row27_col0\" class=\"data row27 col0\" >vitamilk</td>\n",
       "      <td id=\"T_40ee4_row27_col1\" class=\"data row27 col1\" >【討論】台灣IKEA刪除諧音圖「逮八人」的facebook貼文</td>\n",
       "    </tr>\n",
       "    <tr>\n",
       "      <th id=\"T_40ee4_level0_row28\" class=\"row_heading level0 row28\" >29</th>\n",
       "      <td id=\"T_40ee4_row28_col0\" class=\"data row28 col0\" >howie123</td>\n",
       "      <td id=\"T_40ee4_row28_col1\" class=\"data row28 col1\" >【討論】統神已離婚機率高達87% (003買麥當勞事件)</td>\n",
       "    </tr>\n",
       "    <tr>\n",
       "      <th id=\"T_40ee4_level0_row29\" class=\"row_heading level0 row29\" >30</th>\n",
       "      <td id=\"T_40ee4_row29_col0\" class=\"data row29 col0\" >dafeichai</td>\n",
       "      <td id=\"T_40ee4_row29_col1\" class=\"data row29 col1\" >【情報】本季的妙廟美少女有料喔!</td>\n",
       "    </tr>\n",
       "  </tbody>\n",
       "</table>\n"
      ],
      "text/plain": [
       "<pandas.io.formats.style.Styler at 0x1a206129d80>"
      ]
     },
     "execution_count": 183,
     "metadata": {},
     "output_type": "execute_result"
    }
   ],
   "source": [
    "df_master_ls = pd.Da taFrame(master_ls)\n",
    "df_title_ls = pd.DataFrame(title_ls)\n",
    "\n",
    "df_baha = pd.concat([df_master_ls, df_title_ls], ignore_index=True, axis = 1)\n",
    "\n",
    "df_baha.columns = [\"作者\", \"發文標題\"]\n",
    "\n",
    "df_baha.index += 1\n",
    "\n",
    "df_baha\n",
    "\n",
    "df_baha.style\\\n",
    "    .set_table_styles([ dict(selector = 'th', props = [('text-align', 'center')])])\\\n",
    "    .set_properties(**{'text-align': 'left', 'font-weight': 'bold'})"
   ]
  },
  {
   "cell_type": "code",
   "execution_count": 172,
   "id": "9e40e0b7",
   "metadata": {},
   "outputs": [
    {
     "data": {
      "text/plain": [
       "'2.0.3'"
      ]
     },
     "execution_count": 172,
     "metadata": {},
     "output_type": "execute_result"
    }
   ],
   "source": [
    "pd.__version__"
   ]
  },
  {
   "cell_type": "code",
   "execution_count": 169,
   "id": "6717a2ca",
   "metadata": {},
   "outputs": [
    {
     "ename": "NoSuchWindowException",
     "evalue": "Message: no such window: target window already closed\nfrom unknown error: web view not found\n  (Session info: chrome=114.0.5735.199)\nStacktrace:\nBacktrace:\n\tGetHandleVerifier [0x00C2A813+48355]\n\t(No symbol) [0x00BBC4B1]\n\t(No symbol) [0x00AC5358]\n\t(No symbol) [0x00AAD293]\n\t(No symbol) [0x00B0E37B]\n\t(No symbol) [0x00B12842]\n\t(No symbol) [0x00B0A703]\n\t(No symbol) [0x00AE82DC]\n\t(No symbol) [0x00AE93DD]\n\tGetHandleVerifier [0x00E8AABD+2539405]\n\tGetHandleVerifier [0x00ECA78F+2800735]\n\tGetHandleVerifier [0x00EC456C+2775612]\n\tGetHandleVerifier [0x00CB51E0+616112]\n\t(No symbol) [0x00BC5F8C]\n\t(No symbol) [0x00BC2328]\n\t(No symbol) [0x00BC240B]\n\t(No symbol) [0x00BB4FF7]\n\tBaseThreadInitThunk [0x767400C9+25]\n\tRtlGetAppContainerNamedObjectPath [0x76EF7B4E+286]\n\tRtlGetAppContainerNamedObjectPath [0x76EF7B1E+238]\n",
     "output_type": "error",
     "traceback": [
      "\u001b[1;31m---------------------------------------------------------------------------\u001b[0m",
      "\u001b[1;31mNoSuchWindowException\u001b[0m                     Traceback (most recent call last)",
      "Cell \u001b[1;32mIn[169], line 1\u001b[0m\n\u001b[1;32m----> 1\u001b[0m \u001b[43mdriver\u001b[49m\u001b[38;5;241;43m.\u001b[39;49m\u001b[43mclose\u001b[49m\u001b[43m(\u001b[49m\u001b[43m)\u001b[49m\n",
      "File \u001b[1;32m~\\AppData\\Local\\Programs\\Python\\Python310\\lib\\site-packages\\selenium\\webdriver\\remote\\webdriver.py:457\u001b[0m, in \u001b[0;36mWebDriver.close\u001b[1;34m(self)\u001b[0m\n\u001b[0;32m    449\u001b[0m \u001b[38;5;28;01mdef\u001b[39;00m \u001b[38;5;21mclose\u001b[39m(\u001b[38;5;28mself\u001b[39m) \u001b[38;5;241m-\u001b[39m\u001b[38;5;241m>\u001b[39m \u001b[38;5;28;01mNone\u001b[39;00m:\n\u001b[0;32m    450\u001b[0m \u001b[38;5;250m    \u001b[39m\u001b[38;5;124;03m\"\"\"Closes the current window.\u001b[39;00m\n\u001b[0;32m    451\u001b[0m \n\u001b[0;32m    452\u001b[0m \u001b[38;5;124;03m    :Usage:\u001b[39;00m\n\u001b[1;32m   (...)\u001b[0m\n\u001b[0;32m    455\u001b[0m \u001b[38;5;124;03m            driver.close()\u001b[39;00m\n\u001b[0;32m    456\u001b[0m \u001b[38;5;124;03m    \"\"\"\u001b[39;00m\n\u001b[1;32m--> 457\u001b[0m     \u001b[38;5;28;43mself\u001b[39;49m\u001b[38;5;241;43m.\u001b[39;49m\u001b[43mexecute\u001b[49m\u001b[43m(\u001b[49m\u001b[43mCommand\u001b[49m\u001b[38;5;241;43m.\u001b[39;49m\u001b[43mCLOSE\u001b[49m\u001b[43m)\u001b[49m\n",
      "File \u001b[1;32m~\\AppData\\Local\\Programs\\Python\\Python310\\lib\\site-packages\\selenium\\webdriver\\remote\\webdriver.py:346\u001b[0m, in \u001b[0;36mWebDriver.execute\u001b[1;34m(self, driver_command, params)\u001b[0m\n\u001b[0;32m    344\u001b[0m response \u001b[38;5;241m=\u001b[39m \u001b[38;5;28mself\u001b[39m\u001b[38;5;241m.\u001b[39mcommand_executor\u001b[38;5;241m.\u001b[39mexecute(driver_command, params)\n\u001b[0;32m    345\u001b[0m \u001b[38;5;28;01mif\u001b[39;00m response:\n\u001b[1;32m--> 346\u001b[0m     \u001b[38;5;28;43mself\u001b[39;49m\u001b[38;5;241;43m.\u001b[39;49m\u001b[43merror_handler\u001b[49m\u001b[38;5;241;43m.\u001b[39;49m\u001b[43mcheck_response\u001b[49m\u001b[43m(\u001b[49m\u001b[43mresponse\u001b[49m\u001b[43m)\u001b[49m\n\u001b[0;32m    347\u001b[0m     response[\u001b[38;5;124m\"\u001b[39m\u001b[38;5;124mvalue\u001b[39m\u001b[38;5;124m\"\u001b[39m] \u001b[38;5;241m=\u001b[39m \u001b[38;5;28mself\u001b[39m\u001b[38;5;241m.\u001b[39m_unwrap_value(response\u001b[38;5;241m.\u001b[39mget(\u001b[38;5;124m\"\u001b[39m\u001b[38;5;124mvalue\u001b[39m\u001b[38;5;124m\"\u001b[39m, \u001b[38;5;28;01mNone\u001b[39;00m))\n\u001b[0;32m    348\u001b[0m     \u001b[38;5;28;01mreturn\u001b[39;00m response\n",
      "File \u001b[1;32m~\\AppData\\Local\\Programs\\Python\\Python310\\lib\\site-packages\\selenium\\webdriver\\remote\\errorhandler.py:245\u001b[0m, in \u001b[0;36mErrorHandler.check_response\u001b[1;34m(self, response)\u001b[0m\n\u001b[0;32m    243\u001b[0m         alert_text \u001b[38;5;241m=\u001b[39m value[\u001b[38;5;124m\"\u001b[39m\u001b[38;5;124malert\u001b[39m\u001b[38;5;124m\"\u001b[39m]\u001b[38;5;241m.\u001b[39mget(\u001b[38;5;124m\"\u001b[39m\u001b[38;5;124mtext\u001b[39m\u001b[38;5;124m\"\u001b[39m)\n\u001b[0;32m    244\u001b[0m     \u001b[38;5;28;01mraise\u001b[39;00m exception_class(message, screen, stacktrace, alert_text)  \u001b[38;5;66;03m# type: ignore[call-arg]  # mypy is not smart enough here\u001b[39;00m\n\u001b[1;32m--> 245\u001b[0m \u001b[38;5;28;01mraise\u001b[39;00m exception_class(message, screen, stacktrace)\n",
      "\u001b[1;31mNoSuchWindowException\u001b[0m: Message: no such window: target window already closed\nfrom unknown error: web view not found\n  (Session info: chrome=114.0.5735.199)\nStacktrace:\nBacktrace:\n\tGetHandleVerifier [0x00C2A813+48355]\n\t(No symbol) [0x00BBC4B1]\n\t(No symbol) [0x00AC5358]\n\t(No symbol) [0x00AAD293]\n\t(No symbol) [0x00B0E37B]\n\t(No symbol) [0x00B12842]\n\t(No symbol) [0x00B0A703]\n\t(No symbol) [0x00AE82DC]\n\t(No symbol) [0x00AE93DD]\n\tGetHandleVerifier [0x00E8AABD+2539405]\n\tGetHandleVerifier [0x00ECA78F+2800735]\n\tGetHandleVerifier [0x00EC456C+2775612]\n\tGetHandleVerifier [0x00CB51E0+616112]\n\t(No symbol) [0x00BC5F8C]\n\t(No symbol) [0x00BC2328]\n\t(No symbol) [0x00BC240B]\n\t(No symbol) [0x00BB4FF7]\n\tBaseThreadInitThunk [0x767400C9+25]\n\tRtlGetAppContainerNamedObjectPath [0x76EF7B4E+286]\n\tRtlGetAppContainerNamedObjectPath [0x76EF7B1E+238]\n"
     ]
    }
   ],
   "source": [
    "driver.close()"
   ]
  }
 ],
 "metadata": {
  "colab": {
   "provenance": []
  },
  "kernelspec": {
   "display_name": "Python 3 (ipykernel)",
   "language": "python",
   "name": "python3"
  },
  "language_info": {
   "codemirror_mode": {
    "name": "ipython",
    "version": 3
   },
   "file_extension": ".py",
   "mimetype": "text/x-python",
   "name": "python",
   "nbconvert_exporter": "python",
   "pygments_lexer": "ipython3",
   "version": "3.10.9"
  }
 },
 "nbformat": 4,
 "nbformat_minor": 5
}
