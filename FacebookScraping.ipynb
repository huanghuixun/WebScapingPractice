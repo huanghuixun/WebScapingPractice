{
 "cells": [
  {
   "cell_type": "markdown",
   "id": "2d087a52",
   "metadata": {},
   "source": [
    "## 目標：透過selenium套件來抓取FB社團中的圖片圖檔並下載\n",
    "\n",
    "### 已知問題：\n",
    "1. FB的圖片共分成縮圖與原圖的連結，2者並不相同。"
   ]
  },
  {
   "cell_type": "code",
   "execution_count": 1,
   "id": "9fcec730",
   "metadata": {},
   "outputs": [],
   "source": [
    "import requests\n",
    "import warnings #用於取消音軟體版本而出現的警告\n",
    "warnings.filterwarnings('ignore')\n",
    "import time\n",
    "\n",
    "# bs4來處理抓取下來的網頁資料\n",
    "from bs4 import BeautifulSoup\n",
    "\n",
    "# 透過selenium來操作網頁\n",
    "from selenium import webdriver\n",
    "\n",
    "# 透過selenium來操作、輸入、滑動網頁\n",
    "from selenium.webdriver.common.keys import Keys\n",
    "from selenium.webdriver.common.action_chains import ActionChains"
   ]
  },
  {
   "cell_type": "code",
   "execution_count": 2,
   "id": "01fd3e5b",
   "metadata": {},
   "outputs": [
    {
     "name": "stdout",
     "output_type": "stream",
     "text": [
      "輸入FaceBook個人帳號：000000@gmail.com\n",
      "輸入個人密碼：\n"
     ]
    }
   ],
   "source": [
    "# 輸入FB帳號密碼\n",
    "import getpass\n",
    "\n",
    "username = input(\"輸入FaceBook個人帳號：\")\n",
    "\n",
    "userpass = getpass.getpass(\"輸入個人密碼：\")"
   ]
  },
  {
   "cell_type": "code",
   "execution_count": 3,
   "id": "36a87d79",
   "metadata": {},
   "outputs": [],
   "source": [
    "# chrome_options.add_argument() 添加參數\n",
    "options = webdriver.ChromeOptions()\n",
    "\n",
    "# options.add_argument(\"--disable-infobars\") 此方法已失效，要改用下列做法，主要去除掉由自動操作Chrome所跳出的提示。\n",
    "options.add_experimental_option(\"excludeSwitches\", ['enable-automation']);\n",
    "\n",
    "# 視窗最大化\n",
    "options.add_argument(\"--start-maximized\")\n",
    "\n",
    "# 規避bug，文檔提到\n",
    "options.add_argument('--disable-gpu') \n",
    "\n",
    "prefs = {\n",
    "    # 禁用瀏覽器彈窗\n",
    "    \"profile.default_content_setting_values\":{\n",
    "    \"notifications\" : 2  },\n",
    "    # 禁用彈出儲存密碼視窗\n",
    "    \"profile.password_manager_enabled\": False, \"credentials_enable_service\": False\n",
    "}\n",
    "options.add_experimental_option('prefs',prefs)\n",
    "\n",
    "# options.add_argument()"
   ]
  },
  {
   "cell_type": "code",
   "execution_count": 16,
   "id": "d25d4e35",
   "metadata": {},
   "outputs": [],
   "source": [
    "driver = webdriver.Chrome(options = options)\n",
    "driver.get(\"https://www.facebook.com/\")\n",
    "\n",
    "driver.find_element(\"id\", \"email\").send_keys(username)\n",
    "driver.find_element(\"id\", \"pass\").send_keys(userpass)\n",
    "driver.find_element(\"name\", \"login\").submit()\n",
    "\n",
    "# 登入後等待幾秒\n",
    "login_wating = 3\n",
    "# 宣告後在driver整個生命週期都生效\n",
    "driver.implicitly_wait(login_wating)"
   ]
  },
  {
   "cell_type": "code",
   "execution_count": null,
   "id": "9e42fc37",
   "metadata": {},
   "outputs": [],
   "source": [
    "driver.close()"
   ]
  },
  {
   "cell_type": "code",
   "execution_count": 65,
   "id": "64991d32",
   "metadata": {},
   "outputs": [],
   "source": [
    "# 接下來指定特定社團的頁面\n",
    "fb_club = \"https://www.facebook.com/groups/182779590286685\"\n",
    "\n",
    "driver.get(fb_club)\n",
    "\n",
    "#driver.implicitly_wait(login_wating)"
   ]
  },
  {
   "cell_type": "code",
   "execution_count": 66,
   "id": "7b9c474f",
   "metadata": {},
   "outputs": [
    {
     "name": "stdout",
     "output_type": "stream",
     "text": [
      "共抓取到 15 個連結\n"
     ]
    }
   ],
   "source": [
    "# 開始抓取網頁中指定Tag中圖片的連結\n",
    "\n",
    "max_scrollpages = 3 # 欲爬取的頁面數目，此頁面數字可以調整。\n",
    "\n",
    "sec_waiting = 1    # 暫停駐留在一個頁面的時間，以秒為單位。\n",
    "\n",
    "\n",
    "for repeated_action in range(1, max_scrollpages + 1):\n",
    "    soup = BeautifulSoup(driver.page_source, 'lxml') # 使用 BeautifulSoup() 來解析取回頁面，解釋模式選擇使用 'lxml' 模式。\n",
    "    \n",
    "    photos_link = soup.find_all(\"a\",{\"class\":\"x1i10hfl x1qjc9v5 xjbqb8w xjqpnuy xa49m3k xqeqjp1 x2hbi6w x13fuv20 xu3j5b3 \"\\\n",
    "                                     \"x1q0q8m5 x26u7qi x972fbf xcfux6l x1qhh985 xm0m39n x9f619 x1ypdohk xdl72j9 x2lah0s \"\\\n",
    "                                     \"xe8uvvx xdj266r x11i5rnm xat24cr x1mh8g0r x2lwn1j xeuugli xexx8yu x4uap5 x18d9i69 \"\\\n",
    "                                     \"xkhd6sd x16tdsg8 x1hl2dhg xggy1nq x1ja2u2z x1t137rt x1o1ewxj x3x9cwd x1e5q0jg \"\\\n",
    "                                     \"x13rtm0m x1q0g3np x87ps6o x1lku1pv x1rg5ohu x1a2a7pz x1ey2m1c xds687c x10l6tqk \"\\\n",
    "                                     \"x17qophe x13vifvy x1pdlv7q\"})\n",
    "    \n",
    "    time.sleep(sec_waiting)\n",
    "    \n",
    "    ActionChains(driver).send_keys(Keys.PAGE_DOWN).perform()\n",
    "    \n",
    "print(\"共抓取到 {} 個連結\".format(len(photos_link)))"
   ]
  },
  {
   "cell_type": "code",
   "execution_count": 67,
   "id": "6a5a4876",
   "metadata": {},
   "outputs": [],
   "source": [
    "import pandas as pd\n",
    "\n",
    "df = pd.DataFrame(columns = [\"圖片點擊連結\"])\n",
    "\n",
    "links_ls = []\n",
    "for links in photos_link:\n",
    "    links_ls.append(links['href'])\n",
    "\n",
    "\n",
    "df = pd.DataFrame(links_ls, columns = [\"圖片點擊連結\"])\n",
    "\n",
    "df.index += 1"
   ]
  },
  {
   "cell_type": "code",
   "execution_count": 68,
   "id": "a732d7f1",
   "metadata": {},
   "outputs": [
    {
     "name": "stdout",
     "output_type": "stream",
     "text": [
      "<class 'pandas.core.frame.DataFrame'>\n",
      "<class 'bs4.element.Tag'>\n",
      "<class 'bs4.element.ResultSet'>\n",
      "<class 'list'>\n"
     ]
    }
   ],
   "source": [
    "print(type(df))\n",
    "\n",
    "print(type(links))\n",
    "\n",
    "print(type(photos_link))\n",
    "\n",
    "print(type(links_ls))"
   ]
  },
  {
   "cell_type": "code",
   "execution_count": 69,
   "id": "bff32ba9",
   "metadata": {},
   "outputs": [
    {
     "data": {
      "text/html": [
       "<style type=\"text/css\">\n",
       "#T_6f212 th {\n",
       "  text-align: center;\n",
       "}\n",
       "#T_6f212_row0_col0, #T_6f212_row1_col0, #T_6f212_row2_col0, #T_6f212_row3_col0, #T_6f212_row4_col0, #T_6f212_row5_col0, #T_6f212_row6_col0, #T_6f212_row7_col0, #T_6f212_row8_col0, #T_6f212_row9_col0, #T_6f212_row10_col0, #T_6f212_row11_col0, #T_6f212_row12_col0, #T_6f212_row13_col0, #T_6f212_row14_col0 {\n",
       "  text-align: left;\n",
       "  font-weight: bold;\n",
       "}\n",
       "</style>\n",
       "<table id=\"T_6f212\">\n",
       "  <thead>\n",
       "    <tr>\n",
       "      <th class=\"blank level0\" >&nbsp;</th>\n",
       "      <th id=\"T_6f212_level0_col0\" class=\"col_heading level0 col0\" >圖片點擊連結</th>\n",
       "    </tr>\n",
       "  </thead>\n",
       "  <tbody>\n",
       "    <tr>\n",
       "      <th id=\"T_6f212_level0_row0\" class=\"row_heading level0 row0\" >1</th>\n",
       "      <td id=\"T_6f212_row0_col0\" class=\"data row0 col0\" >https://www.facebook.com/photo/?fbid=3000978010046973&set=pcb.746491193915519&__cft__[0]=AZV5yrtLyFCO-k_0wHBKpXRQalNgDnokoqmkU_2Rr9a8EEgwS5gyB0qLsUuVUrmn-HPKUoKsBBnvWOjhL4m9a6zuLQpEikr4n5-aM-CWKuatlYhrn4j-rr-_4SAqfoWg0HRtWOh0_Wu63kNtuxugAzWnOUrLRyz1CmqPWTFauT87HAKDKrY0hv5Rg_I5SYycI2Q&__tn__=*bH-R</td>\n",
       "    </tr>\n",
       "    <tr>\n",
       "      <th id=\"T_6f212_level0_row1\" class=\"row_heading level0 row1\" >2</th>\n",
       "      <td id=\"T_6f212_row1_col0\" class=\"data row1 col0\" >https://www.facebook.com/photo/?fbid=3000978070046967&set=pcb.746491193915519&__cft__[0]=AZV5yrtLyFCO-k_0wHBKpXRQalNgDnokoqmkU_2Rr9a8EEgwS5gyB0qLsUuVUrmn-HPKUoKsBBnvWOjhL4m9a6zuLQpEikr4n5-aM-CWKuatlYhrn4j-rr-_4SAqfoWg0HRtWOh0_Wu63kNtuxugAzWnOUrLRyz1CmqPWTFauT87HAKDKrY0hv5Rg_I5SYycI2Q&__tn__=*bH-R</td>\n",
       "    </tr>\n",
       "    <tr>\n",
       "      <th id=\"T_6f212_level0_row2\" class=\"row_heading level0 row2\" >3</th>\n",
       "      <td id=\"T_6f212_row2_col0\" class=\"data row2 col0\" >https://www.facebook.com/photo/?fbid=3000977973380310&set=pcb.746491193915519&__cft__[0]=AZV5yrtLyFCO-k_0wHBKpXRQalNgDnokoqmkU_2Rr9a8EEgwS5gyB0qLsUuVUrmn-HPKUoKsBBnvWOjhL4m9a6zuLQpEikr4n5-aM-CWKuatlYhrn4j-rr-_4SAqfoWg0HRtWOh0_Wu63kNtuxugAzWnOUrLRyz1CmqPWTFauT87HAKDKrY0hv5Rg_I5SYycI2Q&__tn__=*bH-R</td>\n",
       "    </tr>\n",
       "    <tr>\n",
       "      <th id=\"T_6f212_level0_row3\" class=\"row_heading level0 row3\" >4</th>\n",
       "      <td id=\"T_6f212_row3_col0\" class=\"data row3 col0\" >https://www.facebook.com/photo/?fbid=3000978013380306&set=pcb.746491193915519&__cft__[0]=AZV5yrtLyFCO-k_0wHBKpXRQalNgDnokoqmkU_2Rr9a8EEgwS5gyB0qLsUuVUrmn-HPKUoKsBBnvWOjhL4m9a6zuLQpEikr4n5-aM-CWKuatlYhrn4j-rr-_4SAqfoWg0HRtWOh0_Wu63kNtuxugAzWnOUrLRyz1CmqPWTFauT87HAKDKrY0hv5Rg_I5SYycI2Q&__tn__=*bH-R</td>\n",
       "    </tr>\n",
       "    <tr>\n",
       "      <th id=\"T_6f212_level0_row4\" class=\"row_heading level0 row4\" >5</th>\n",
       "      <td id=\"T_6f212_row4_col0\" class=\"data row4 col0\" >https://www.facebook.com/photo/?fbid=3000978136713627&set=pcb.746491193915519&__cft__[0]=AZV5yrtLyFCO-k_0wHBKpXRQalNgDnokoqmkU_2Rr9a8EEgwS5gyB0qLsUuVUrmn-HPKUoKsBBnvWOjhL4m9a6zuLQpEikr4n5-aM-CWKuatlYhrn4j-rr-_4SAqfoWg0HRtWOh0_Wu63kNtuxugAzWnOUrLRyz1CmqPWTFauT87HAKDKrY0hv5Rg_I5SYycI2Q&__tn__=*bH-R</td>\n",
       "    </tr>\n",
       "    <tr>\n",
       "      <th id=\"T_6f212_level0_row5\" class=\"row_heading level0 row5\" >6</th>\n",
       "      <td id=\"T_6f212_row5_col0\" class=\"data row5 col0\" >https://www.facebook.com/photo/?fbid=3000201433457964&set=pcb.745939793970659&__cft__[0]=AZVQrPbNmffMcVeymW4orgrj9jxjCgH0zI5zcXqY1Zn_gHovqrwwiNg0QPhwMIPrfWZDSYyMESpT7c4Kl0tXmj3iRJ-haZiASmRU8UBl60GCbXtc-TZPjX9aE6_zHXYSn7Te6L4TnVUgKeRpeuq-AWC8kvpgJqiVScvVF9AmfhjNVUK90AwGwneFC-BVLpBQIh0&__tn__=*bH-R</td>\n",
       "    </tr>\n",
       "    <tr>\n",
       "      <th id=\"T_6f212_level0_row6\" class=\"row_heading level0 row6\" >7</th>\n",
       "      <td id=\"T_6f212_row6_col0\" class=\"data row6 col0\" >https://www.facebook.com/photo/?fbid=3000201300124644&set=pcb.745939793970659&__cft__[0]=AZVQrPbNmffMcVeymW4orgrj9jxjCgH0zI5zcXqY1Zn_gHovqrwwiNg0QPhwMIPrfWZDSYyMESpT7c4Kl0tXmj3iRJ-haZiASmRU8UBl60GCbXtc-TZPjX9aE6_zHXYSn7Te6L4TnVUgKeRpeuq-AWC8kvpgJqiVScvVF9AmfhjNVUK90AwGwneFC-BVLpBQIh0&__tn__=*bH-R</td>\n",
       "    </tr>\n",
       "    <tr>\n",
       "      <th id=\"T_6f212_level0_row7\" class=\"row_heading level0 row7\" >8</th>\n",
       "      <td id=\"T_6f212_row7_col0\" class=\"data row7 col0\" >https://www.facebook.com/photo/?fbid=3000201426791298&set=pcb.745939793970659&__cft__[0]=AZVQrPbNmffMcVeymW4orgrj9jxjCgH0zI5zcXqY1Zn_gHovqrwwiNg0QPhwMIPrfWZDSYyMESpT7c4Kl0tXmj3iRJ-haZiASmRU8UBl60GCbXtc-TZPjX9aE6_zHXYSn7Te6L4TnVUgKeRpeuq-AWC8kvpgJqiVScvVF9AmfhjNVUK90AwGwneFC-BVLpBQIh0&__tn__=*bH-R</td>\n",
       "    </tr>\n",
       "    <tr>\n",
       "      <th id=\"T_6f212_level0_row8\" class=\"row_heading level0 row8\" >9</th>\n",
       "      <td id=\"T_6f212_row8_col0\" class=\"data row8 col0\" >https://www.facebook.com/photo/?fbid=3000201696791271&set=pcb.745939793970659&__cft__[0]=AZVQrPbNmffMcVeymW4orgrj9jxjCgH0zI5zcXqY1Zn_gHovqrwwiNg0QPhwMIPrfWZDSYyMESpT7c4Kl0tXmj3iRJ-haZiASmRU8UBl60GCbXtc-TZPjX9aE6_zHXYSn7Te6L4TnVUgKeRpeuq-AWC8kvpgJqiVScvVF9AmfhjNVUK90AwGwneFC-BVLpBQIh0&__tn__=*bH-R</td>\n",
       "    </tr>\n",
       "    <tr>\n",
       "      <th id=\"T_6f212_level0_row9\" class=\"row_heading level0 row9\" >10</th>\n",
       "      <td id=\"T_6f212_row9_col0\" class=\"data row9 col0\" >https://www.facebook.com/photo/?fbid=3000201496791291&set=pcb.745939793970659&__cft__[0]=AZVQrPbNmffMcVeymW4orgrj9jxjCgH0zI5zcXqY1Zn_gHovqrwwiNg0QPhwMIPrfWZDSYyMESpT7c4Kl0tXmj3iRJ-haZiASmRU8UBl60GCbXtc-TZPjX9aE6_zHXYSn7Te6L4TnVUgKeRpeuq-AWC8kvpgJqiVScvVF9AmfhjNVUK90AwGwneFC-BVLpBQIh0&__tn__=*bH-R</td>\n",
       "    </tr>\n",
       "    <tr>\n",
       "      <th id=\"T_6f212_level0_row10\" class=\"row_heading level0 row10\" >11</th>\n",
       "      <td id=\"T_6f212_row10_col0\" class=\"data row10 col0\" >https://www.facebook.com/photo/?fbid=2997672727044168&set=pcb.744087457489226&__cft__[0]=AZUREVOaAOotA4-2n-3pzRqKu3gJF1pLbbScjUSCM1WK6MjfQyLSvOUufPKMpleon3kAE4MnAYvOZAerJuyjXGfkmPFOZC6L84zS7zqvcw5RLrj_HfjDNz_RgatBQLIpjHyTLKEmuLOpuQJapcn1l0Ca7KQ6QBooEWX6XTp6L0Q3TDvdgeXFAzMqMQjq1_2LyFA&__tn__=*bH-R</td>\n",
       "    </tr>\n",
       "    <tr>\n",
       "      <th id=\"T_6f212_level0_row11\" class=\"row_heading level0 row11\" >12</th>\n",
       "      <td id=\"T_6f212_row11_col0\" class=\"data row11 col0\" >https://www.facebook.com/photo/?fbid=2997672767044164&set=pcb.744087457489226&__cft__[0]=AZUREVOaAOotA4-2n-3pzRqKu3gJF1pLbbScjUSCM1WK6MjfQyLSvOUufPKMpleon3kAE4MnAYvOZAerJuyjXGfkmPFOZC6L84zS7zqvcw5RLrj_HfjDNz_RgatBQLIpjHyTLKEmuLOpuQJapcn1l0Ca7KQ6QBooEWX6XTp6L0Q3TDvdgeXFAzMqMQjq1_2LyFA&__tn__=*bH-R</td>\n",
       "    </tr>\n",
       "    <tr>\n",
       "      <th id=\"T_6f212_level0_row12\" class=\"row_heading level0 row12\" >13</th>\n",
       "      <td id=\"T_6f212_row12_col0\" class=\"data row12 col0\" >https://www.facebook.com/photo/?fbid=2997672790377495&set=pcb.744087457489226&__cft__[0]=AZUREVOaAOotA4-2n-3pzRqKu3gJF1pLbbScjUSCM1WK6MjfQyLSvOUufPKMpleon3kAE4MnAYvOZAerJuyjXGfkmPFOZC6L84zS7zqvcw5RLrj_HfjDNz_RgatBQLIpjHyTLKEmuLOpuQJapcn1l0Ca7KQ6QBooEWX6XTp6L0Q3TDvdgeXFAzMqMQjq1_2LyFA&__tn__=*bH-R</td>\n",
       "    </tr>\n",
       "    <tr>\n",
       "      <th id=\"T_6f212_level0_row13\" class=\"row_heading level0 row13\" >14</th>\n",
       "      <td id=\"T_6f212_row13_col0\" class=\"data row13 col0\" >https://www.facebook.com/photo/?fbid=2997673000377474&set=pcb.744087457489226&__cft__[0]=AZUREVOaAOotA4-2n-3pzRqKu3gJF1pLbbScjUSCM1WK6MjfQyLSvOUufPKMpleon3kAE4MnAYvOZAerJuyjXGfkmPFOZC6L84zS7zqvcw5RLrj_HfjDNz_RgatBQLIpjHyTLKEmuLOpuQJapcn1l0Ca7KQ6QBooEWX6XTp6L0Q3TDvdgeXFAzMqMQjq1_2LyFA&__tn__=*bH-R</td>\n",
       "    </tr>\n",
       "    <tr>\n",
       "      <th id=\"T_6f212_level0_row14\" class=\"row_heading level0 row14\" >15</th>\n",
       "      <td id=\"T_6f212_row14_col0\" class=\"data row14 col0\" >https://www.facebook.com/photo/?fbid=2997672743710833&set=pcb.744087457489226&__cft__[0]=AZUREVOaAOotA4-2n-3pzRqKu3gJF1pLbbScjUSCM1WK6MjfQyLSvOUufPKMpleon3kAE4MnAYvOZAerJuyjXGfkmPFOZC6L84zS7zqvcw5RLrj_HfjDNz_RgatBQLIpjHyTLKEmuLOpuQJapcn1l0Ca7KQ6QBooEWX6XTp6L0Q3TDvdgeXFAzMqMQjq1_2LyFA&__tn__=*bH-R</td>\n",
       "    </tr>\n",
       "  </tbody>\n",
       "</table>\n"
      ],
      "text/plain": [
       "<pandas.io.formats.style.Styler at 0x1b0f0995a80>"
      ]
     },
     "execution_count": 69,
     "metadata": {},
     "output_type": "execute_result"
    }
   ],
   "source": [
    "df.style\\\n",
    "    .set_table_styles([ dict(selector = 'th', props = [('text-align', 'center')])])\\\n",
    "    .set_properties(**{'text-align': 'left', 'font-weight': 'bold'})"
   ]
  },
  {
   "cell_type": "code",
   "execution_count": 70,
   "id": "6d6aa672",
   "metadata": {},
   "outputs": [
    {
     "name": "stdout",
     "output_type": "stream",
     "text": [
      "15\n"
     ]
    }
   ],
   "source": [
    "print(len(links_ls))"
   ]
  },
  {
   "cell_type": "code",
   "execution_count": 71,
   "id": "15f0720f",
   "metadata": {},
   "outputs": [
    {
     "name": "stdout",
     "output_type": "stream",
     "text": [
      "抓取圖片中...\n",
      "抓取完畢\n"
     ]
    },
    {
     "data": {
      "text/plain": [
       "['https://scontent.fkhh1-2.fna.fbcdn.net/v/t39.30808-6/359788075_3000977986713642_5570418603541203949_n.jpg?_nc_cat=110&ccb=1-7&_nc_sid=5cd70e&_nc_ohc=sPKq1FdIkhwAX-NjyJc&_nc_ht=scontent.fkhh1-2.fna&oh=00_AfA0sEoDNWgLPiaCbcjuSL7nzXsfwf7_qLptgGSMWHpt9w&oe=64B1BCE9',\n",
       " 'https://scontent.fkhh1-2.fna.fbcdn.net/v/t39.30808-6/358408013_3000978053380302_4828338804286665469_n.jpg?_nc_cat=100&ccb=1-7&_nc_sid=5cd70e&_nc_ohc=bgoQITz5vf4AX90uOzE&_nc_ht=scontent.fkhh1-2.fna&oh=00_AfDOmDM3Y-LkBiEa8oZPNSfHNeQ_37cby-YGHx7Rx8Yq7A&oe=64B0E734',\n",
       " 'https://scontent.fkhh1-2.fna.fbcdn.net/v/t39.30808-6/358569843_3000977966713644_3838970978353992721_n.jpg?_nc_cat=111&ccb=1-7&_nc_sid=5cd70e&_nc_ohc=Vp1cWFlDblEAX-9iEFd&_nc_ht=scontent.fkhh1-2.fna&oh=00_AfAb_BdklyFWVXm4HHK9C9nC_lZjBVtUS01BsQvRKpfHxQ&oe=64B1B056',\n",
       " 'https://scontent.fkhh1-2.fna.fbcdn.net/v/t39.30808-6/358971997_3000977996713641_1303984567827253815_n.jpg?_nc_cat=107&ccb=1-7&_nc_sid=5cd70e&_nc_ohc=7QLz-JwVHEoAX8eUpkg&_nc_ht=scontent.fkhh1-2.fna&oh=00_AfA7Z5Nu9ECw_ihyJ0mfHsbwH_7CxEd1iqAq4xx2M6wZ2w&oe=64B1B2FF',\n",
       " 'https://scontent.fkhh1-2.fna.fbcdn.net/v/t39.30808-6/358152362_3000978130046961_8142092970396240212_n.jpg?_nc_cat=109&ccb=1-7&_nc_sid=5cd70e&_nc_ohc=Puka5bZu_yoAX_AFF4A&_nc_ht=scontent.fkhh1-2.fna&oh=00_AfCtd1QYnkNqn-V_UyaFp3cfvk1IiD7NxAYdwGkicgbZwA&oe=64B09ABA',\n",
       " 'https://scontent.fkhh1-2.fna.fbcdn.net/v/t39.30808-6/358096808_3000201423457965_2588274441001567687_n.jpg?_nc_cat=110&ccb=1-7&_nc_sid=5cd70e&_nc_ohc=X_AgSBx2g58AX8XPXNV&_nc_ht=scontent.fkhh1-2.fna&oh=00_AfBVJ-ZYOqyavOP1QPJnD8XchiWYy34_ApGgiiNBuO4J0g&oe=64B0FC76',\n",
       " 'https://scontent.fkhh1-2.fna.fbcdn.net/v/t39.30808-6/358093905_3000201296791311_1863875817436091914_n.jpg?_nc_cat=110&ccb=1-7&_nc_sid=5cd70e&_nc_ohc=PEZJs5zQLckAX9NLEs2&_nc_ht=scontent.fkhh1-2.fna&oh=00_AfCbfSByrYRvbhtE6Cz_zcNFbv5hh10rEGwYtFEz0Q3T5Q&oe=64B1D49C',\n",
       " 'https://scontent.fkhh1-2.fna.fbcdn.net/v/t39.30808-6/358434701_3000201413457966_3652351090981899077_n.jpg?_nc_cat=110&ccb=1-7&_nc_sid=5cd70e&_nc_ohc=NXFg3fTdDDEAX8Ul0sD&_nc_ht=scontent.fkhh1-2.fna&oh=00_AfDrwBYSEml550fKd0qMXvN_Tp5u2PSnIPCuTdXzOidmyA&oe=64B06D30',\n",
       " 'https://scontent.fkhh1-2.fna.fbcdn.net/v/t39.30808-6/359003770_3000201693457938_5319959183301643821_n.jpg?_nc_cat=107&ccb=1-7&_nc_sid=5cd70e&_nc_ohc=CAy_TCWiLLMAX-tFfaR&_nc_ht=scontent.fkhh1-2.fna&oh=00_AfD7za-LngJ1jUIyfuZDvCM00HnI1mTJdTGLsVhzCAhzpA&oe=64B1F6EB',\n",
       " 'https://scontent.fkhh1-2.fna.fbcdn.net/v/t39.30808-6/358067083_3000201493457958_8424391121117537776_n.jpg?_nc_cat=110&ccb=1-7&_nc_sid=5cd70e&_nc_ohc=nnJnZTHsF38AX8viU0I&_nc_ht=scontent.fkhh1-2.fna&oh=00_AfDF_Yo46L1N0-QUeM1h2DtTTsb43nowhzPp2Nrv3p9W-A&oe=64B1BE1A',\n",
       " 'https://scontent.fkhh1-2.fna.fbcdn.net/v/t39.30808-6/358124555_2997672713710836_4534686427931052727_n.jpg?_nc_cat=111&ccb=1-7&_nc_sid=5cd70e&_nc_ohc=P9vhVOOYof8AX8oGjtU&_nc_ht=scontent.fkhh1-2.fna&oh=00_AfC6XZVyd0TDEaYTqf0CS6wTOLTysxmZKzbtmIja6b7XXQ&oe=64B164F9',\n",
       " 'https://scontent.fkhh1-2.fna.fbcdn.net/v/t39.30808-6/358473989_2997672763710831_7242122353083823315_n.jpg?_nc_cat=108&ccb=1-7&_nc_sid=5cd70e&_nc_ohc=BcvtaqMphWYAX-oLhbt&_nc_ht=scontent.fkhh1-2.fna&oh=00_AfC6o4WgBjI7vcwiBoCn4Sn2_pJ3aEhEbRpgj0r7DuMdtw&oe=64B0CA8B',\n",
       " 'https://scontent.fkhh1-2.fna.fbcdn.net/v/t39.30808-6/358595105_2997672780377496_8352313053379203990_n.jpg?_nc_cat=100&ccb=1-7&_nc_sid=5cd70e&_nc_ohc=wzmgLnCPU0wAX9-5lJl&_nc_ht=scontent.fkhh1-2.fna&oh=00_AfBs8i1SsiWo0KrzzLdt0SKDEnciW3N3DaN8qv_6i5UrJA&oe=64B1206D',\n",
       " 'https://scontent.fkhh1-2.fna.fbcdn.net/v/t39.30808-6/358566762_2997672997044141_2579377528062776610_n.jpg?_nc_cat=103&ccb=1-7&_nc_sid=5cd70e&_nc_ohc=TZILFteRUk4AX-yduWC&_nc_ht=scontent.fkhh1-2.fna&oh=00_AfCbMqG1IdsR0bxB01rlUyjF06rPZIJBaAIKuzFTnEilaw&oe=64B15A0D',\n",
       " 'https://scontent.fkhh1-2.fna.fbcdn.net/v/t39.30808-6/358096253_2997672723710835_6821294883343979872_n.jpg?_nc_cat=109&ccb=1-7&_nc_sid=5cd70e&_nc_ohc=8sXWm-dLGGgAX-NUABK&_nc_ht=scontent.fkhh1-2.fna&oh=00_AfAcyU0_0gikyRu1MED9J1YNXvu11ixbJ8Hycq9ZtBneTQ&oe=64B148F7']"
      ]
     },
     "execution_count": 71,
     "metadata": {},
     "output_type": "execute_result"
    }
   ],
   "source": [
    "import random\n",
    "dirver_delay = [2, 2.5, 3.5, 5]\n",
    "requests_delay = [1, 3, 5, 7]\n",
    "\n",
    "imgs_ls = []\n",
    "\n",
    "print(\"抓取圖片中...\")\n",
    "for action_href_link in range(len(links_ls)):\n",
    "    \n",
    "    # 使用links_ls的串列\n",
    "    driver.get(links_ls[action_href_link])\n",
    "    time.sleep(1)\n",
    "    \n",
    "    soup = BeautifulSoup(driver.page_source, 'lxml')\n",
    "    \n",
    "    imgs_link = soup.find_all(\"img\", {\"class\":\"x85a59c x193iq5w x4fas0m x19kjcj4\"})\n",
    "    \n",
    "    for imgs in imgs_link:\n",
    "        imgs_ls.append(imgs['src'])\n",
    "    \n",
    "    time_delay = dirver_delay[random.randint(0, 3)]\n",
    "    time.sleep(time_delay)\n",
    "\n",
    "print(\"抓取完畢\")\n",
    "imgs_ls\n",
    "    \n",
    "#try:\n",
    "\n",
    "    #requests.get(df[action_href_link],timeout = 2)\n",
    "\n",
    "    #time_delay = delay[random.randint(0, 3)]\n",
    "    #time.sleep(time_delay)\n",
    "\n",
    "# except:requests.ConnectionError, err:\n",
    "        #print(\"Response：\"err)\n",
    "\n",
    "#print(\"delay{}秒\".format(time_delay))"
   ]
  },
  {
   "cell_type": "code",
   "execution_count": 72,
   "id": "e42f9dce",
   "metadata": {},
   "outputs": [],
   "source": [
    "headers = {\"user-agent\": \"Mozilla/5.0 (Windows NT 10.0; Win64; x64) AppleWebKit/537.36 (KHTML, like Gecko) \"\\\n",
    "           \"Chrome/42.0.2311.135 Safari/537.36 Edge/12.246\"}"
   ]
  },
  {
   "cell_type": "code",
   "execution_count": 73,
   "id": "92fc612b",
   "metadata": {},
   "outputs": [
    {
     "name": "stdout",
     "output_type": "stream",
     "text": [
      "下載成功\n",
      "下載成功\n",
      "下載成功\n",
      "下載成功\n",
      "下載成功\n",
      "下載成功\n",
      "下載成功\n",
      "下載成功\n",
      "下載成功\n",
      "下載成功\n",
      "下載成功\n",
      "下載成功\n",
      "下載成功\n",
      "下載成功\n",
      "下載成功\n",
      "下載完畢\n"
     ]
    }
   ],
   "source": [
    "import os\n",
    "imgs_ls\n",
    "\n",
    "if not os.path.exists(\"images\"):\n",
    "        os.mkdir(\"images\")  # 建立資料夾\n",
    "\n",
    "# for index, link in enumerate(imgs):\n",
    "for down_links in range(0, len(imgs_ls)):\n",
    "    \n",
    "    down_file = requests.get(imgs_ls[down_links]).content\n",
    "    time.sleep(requests_delay[random.randint(0, 3)])\n",
    "    try:\n",
    "\n",
    "        with open(\"images\\\\\" + \"fb_club_FBK{}.jpg\".format(down_links + 1), \"wb\") as fp:\n",
    "            fp.write(down_file)\n",
    "            print(\"下載成功\")\n",
    "            \n",
    "    except FileNotFoundError:\n",
    "        \n",
    "        print(\"檔案不存在...索引：{}\".format(down_links))\n",
    "    \n",
    "    except Exception:\n",
    "        \n",
    "        print(\"錯誤下載...索引：{}\".format(down_links))\n",
    "\n",
    "\n",
    "print(\"下載完畢\")"
   ]
  },
  {
   "cell_type": "code",
   "execution_count": 75,
   "id": "44a3ac5f",
   "metadata": {},
   "outputs": [],
   "source": [
    "driver.close()"
   ]
  },
  {
   "cell_type": "code",
   "execution_count": 11,
   "id": "139594b9",
   "metadata": {},
   "outputs": [],
   "source": [
    "#非重要\n",
    "url = \"https://www.facebook.com/photo/?fbid=2999459080198866&set=pcb.745373874027251&__cft__[0]=AZWzjROWHO5_9jIWTed6pC6tDvOEx4SxaEL1HjmZLRf5QyFyRfYvirwtHBv2WphKhSVOd_FRXy4hrupL5VAhJvjk_NMLRiWUCZct33Q5lSe2Towucq3wOu7pviyXJSzSc01u_E2FwickoUiT6ghyBfwhNuAnSXYcrH0HEoZQQkAIcw60buMlH0klCN81xkGBC7s&__tn__=*bH-R\"\n",
    "driver.get(url)\n",
    "\n",
    "\n",
    "soup = BeautifulSoup(driver.page_source, 'lxml')\n",
    "\n",
    "img_con = soup.find_all(\"img\", {\"class\":\"x85a59c x193iq5w x4fas0m x19kjcj4\"})\n",
    "\n",
    "dfs= []\n",
    "for b in img_con:\n",
    "    dfs.append(b['src'])\n",
    "\n",
    "haha = requests.get(dfs[0], headers = headers).content\n",
    "with open(\"netflix1.jpg\", \"wb\") as handler: \n",
    "    handler.write(haha) "
   ]
  }
 ],
 "metadata": {
  "kernelspec": {
   "display_name": "Python 3 (ipykernel)",
   "language": "python",
   "name": "python3"
  },
  "language_info": {
   "codemirror_mode": {
    "name": "ipython",
    "version": 3
   },
   "file_extension": ".py",
   "mimetype": "text/x-python",
   "name": "python",
   "nbconvert_exporter": "python",
   "pygments_lexer": "ipython3",
   "version": "3.10.9"
  }
 },
 "nbformat": 4,
 "nbformat_minor": 5
}
